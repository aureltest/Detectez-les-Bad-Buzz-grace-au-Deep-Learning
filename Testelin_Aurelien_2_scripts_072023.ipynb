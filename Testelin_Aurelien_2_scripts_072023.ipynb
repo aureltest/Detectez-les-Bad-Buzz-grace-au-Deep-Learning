{
 "cells": [
  {
   "cell_type": "code",
   "execution_count": 1,
   "id": "f05b3f17",
   "metadata": {},
   "outputs": [],
   "source": [
    "import os\n",
    "import gc\n",
    "import pandas as pd\n",
    "pd.set_option('display.max_colwidth', 100)\n",
    "import matplotlib.pyplot as plt\n",
    "import seaborn as sns\n",
    "import numpy as np\n",
    "import nltk\n",
    "import string\n",
    "from nltk.corpus import words\n",
    "from nltk.tokenize import word_tokenize\n",
    "import mlflow\n",
    "import mlflow.sklearn\n",
    "import mlflow.keras\n",
    "from mlflow.models.signature import infer_signature\n",
    "from sklearn.model_selection import GridSearchCV\n",
    "import re\n",
    "from sklearn.model_selection import train_test_split\n",
    "from sklearn.base import BaseEstimator, TransformerMixin\n",
    "from sklearn.metrics import auc as auc_score_func\n",
    "from sklearn.metrics import make_scorer, classification_report, precision_score, recall_score, f1_score, confusion_matrix, roc_curve, accuracy_score, average_precision_score, roc_auc_score\n",
    "from sklearn.feature_extraction.text import CountVectorizer, TfidfVectorizer\n",
    "from sklearn.preprocessing import StandardScaler\n",
    "from sklearn.linear_model import LogisticRegression\n",
    "import spacy\n",
    "from spacy.tokens import Doc\n",
    "from spacy.language import Language\n",
    "import gensim\n",
    "import tensorflow as tf\n",
    "import tensorflow_hub as hub\n",
    "from keras.models import Sequential, Model\n",
    "from keras.layers import Embedding, LSTM, Dense, Dropout, Flatten, Input, Conv1D, MaxPooling1D, GlobalMaxPooling1D, SpatialDropout1D\n",
    "from sklearn.pipeline import Pipeline\n",
    "from sklearn.metrics import classification_report\n",
    "from keras.preprocessing.text import Tokenizer\n",
    "from tensorflow.keras.preprocessing.sequence import pad_sequences\n",
    "from keras import regularizers\n",
    "from keras.callbacks import EarlyStopping\n",
    "from transformers import BertTokenizer, TFBertModel\n",
    "from tqdm import tqdm\n",
    "from gensim.models import Word2Vec\n",
    "from gensim.test.utils import common_texts\n",
    "from gensim.models import KeyedVectors\n",
    "import gensim.downloader as api\n",
    "import fasttext.util\n",
    "from numba import cuda\n",
    "from transformers import BertTokenizer, TFBertForSequenceClassification\n",
    "from keras.wrappers.scikit_learn import KerasClassifier\n",
    "from sklearn.model_selection import RandomizedSearchCV\n",
    "from keras.optimizers import Adam\n",
    "from transformers import PreTrainedTokenizerFast"
   ]
  },
  {
   "cell_type": "code",
   "execution_count": 2,
   "id": "566e70fc",
   "metadata": {},
   "outputs": [
    {
     "name": "stdout",
     "output_type": "stream",
     "text": [
      "[PhysicalDevice(name='/physical_device:CPU:0', device_type='CPU'), PhysicalDevice(name='/physical_device:GPU:0', device_type='GPU')]\n"
     ]
    }
   ],
   "source": [
    "print(tf.config.get_visible_devices())"
   ]
  },
  {
   "cell_type": "code",
   "execution_count": 2,
   "id": "948f30b2",
   "metadata": {},
   "outputs": [
    {
     "data": {
      "text/html": [
       "<div>\n",
       "<style scoped>\n",
       "    .dataframe tbody tr th:only-of-type {\n",
       "        vertical-align: middle;\n",
       "    }\n",
       "\n",
       "    .dataframe tbody tr th {\n",
       "        vertical-align: top;\n",
       "    }\n",
       "\n",
       "    .dataframe thead th {\n",
       "        text-align: right;\n",
       "    }\n",
       "</style>\n",
       "<table border=\"1\" class=\"dataframe\">\n",
       "  <thead>\n",
       "    <tr style=\"text-align: right;\">\n",
       "      <th></th>\n",
       "      <th>target</th>\n",
       "      <th>ids</th>\n",
       "      <th>date</th>\n",
       "      <th>flag</th>\n",
       "      <th>user</th>\n",
       "      <th>text</th>\n",
       "    </tr>\n",
       "  </thead>\n",
       "  <tbody>\n",
       "    <tr>\n",
       "      <th>0</th>\n",
       "      <td>0</td>\n",
       "      <td>1467810369</td>\n",
       "      <td>Mon Apr 06 22:19:45 PDT 2009</td>\n",
       "      <td>NO_QUERY</td>\n",
       "      <td>_TheSpecialOne_</td>\n",
       "      <td>@switchfoot http://twitpic.com/2y1zl - Awww, that's a bummer.  You shoulda got David Carr of Thi...</td>\n",
       "    </tr>\n",
       "    <tr>\n",
       "      <th>1</th>\n",
       "      <td>0</td>\n",
       "      <td>1467810672</td>\n",
       "      <td>Mon Apr 06 22:19:49 PDT 2009</td>\n",
       "      <td>NO_QUERY</td>\n",
       "      <td>scotthamilton</td>\n",
       "      <td>is upset that he can't update his Facebook by texting it... and might cry as a result  School to...</td>\n",
       "    </tr>\n",
       "    <tr>\n",
       "      <th>2</th>\n",
       "      <td>0</td>\n",
       "      <td>1467810917</td>\n",
       "      <td>Mon Apr 06 22:19:53 PDT 2009</td>\n",
       "      <td>NO_QUERY</td>\n",
       "      <td>mattycus</td>\n",
       "      <td>@Kenichan I dived many times for the ball. Managed to save 50%  The rest go out of bounds</td>\n",
       "    </tr>\n",
       "    <tr>\n",
       "      <th>3</th>\n",
       "      <td>0</td>\n",
       "      <td>1467811184</td>\n",
       "      <td>Mon Apr 06 22:19:57 PDT 2009</td>\n",
       "      <td>NO_QUERY</td>\n",
       "      <td>ElleCTF</td>\n",
       "      <td>my whole body feels itchy and like its on fire</td>\n",
       "    </tr>\n",
       "    <tr>\n",
       "      <th>4</th>\n",
       "      <td>0</td>\n",
       "      <td>1467811193</td>\n",
       "      <td>Mon Apr 06 22:19:57 PDT 2009</td>\n",
       "      <td>NO_QUERY</td>\n",
       "      <td>Karoli</td>\n",
       "      <td>@nationwideclass no, it's not behaving at all. i'm mad. why am i here? because I can't see you a...</td>\n",
       "    </tr>\n",
       "    <tr>\n",
       "      <th>...</th>\n",
       "      <td>...</td>\n",
       "      <td>...</td>\n",
       "      <td>...</td>\n",
       "      <td>...</td>\n",
       "      <td>...</td>\n",
       "      <td>...</td>\n",
       "    </tr>\n",
       "    <tr>\n",
       "      <th>1599995</th>\n",
       "      <td>4</td>\n",
       "      <td>2193601966</td>\n",
       "      <td>Tue Jun 16 08:40:49 PDT 2009</td>\n",
       "      <td>NO_QUERY</td>\n",
       "      <td>AmandaMarie1028</td>\n",
       "      <td>Just woke up. Having no school is the best feeling ever</td>\n",
       "    </tr>\n",
       "    <tr>\n",
       "      <th>1599996</th>\n",
       "      <td>4</td>\n",
       "      <td>2193601969</td>\n",
       "      <td>Tue Jun 16 08:40:49 PDT 2009</td>\n",
       "      <td>NO_QUERY</td>\n",
       "      <td>TheWDBoards</td>\n",
       "      <td>TheWDB.com - Very cool to hear old Walt interviews!  â« http://blip.fm/~8bmta</td>\n",
       "    </tr>\n",
       "    <tr>\n",
       "      <th>1599997</th>\n",
       "      <td>4</td>\n",
       "      <td>2193601991</td>\n",
       "      <td>Tue Jun 16 08:40:49 PDT 2009</td>\n",
       "      <td>NO_QUERY</td>\n",
       "      <td>bpbabe</td>\n",
       "      <td>Are you ready for your MoJo Makeover? Ask me for details</td>\n",
       "    </tr>\n",
       "    <tr>\n",
       "      <th>1599998</th>\n",
       "      <td>4</td>\n",
       "      <td>2193602064</td>\n",
       "      <td>Tue Jun 16 08:40:49 PDT 2009</td>\n",
       "      <td>NO_QUERY</td>\n",
       "      <td>tinydiamondz</td>\n",
       "      <td>Happy 38th Birthday to my boo of alll time!!! Tupac Amaru Shakur</td>\n",
       "    </tr>\n",
       "    <tr>\n",
       "      <th>1599999</th>\n",
       "      <td>4</td>\n",
       "      <td>2193602129</td>\n",
       "      <td>Tue Jun 16 08:40:50 PDT 2009</td>\n",
       "      <td>NO_QUERY</td>\n",
       "      <td>RyanTrevMorris</td>\n",
       "      <td>happy #charitytuesday @theNSPCC @SparksCharity @SpeakingUpH4H</td>\n",
       "    </tr>\n",
       "  </tbody>\n",
       "</table>\n",
       "<p>1600000 rows × 6 columns</p>\n",
       "</div>"
      ],
      "text/plain": [
       "         target         ids                          date      flag  \\\n",
       "0             0  1467810369  Mon Apr 06 22:19:45 PDT 2009  NO_QUERY   \n",
       "1             0  1467810672  Mon Apr 06 22:19:49 PDT 2009  NO_QUERY   \n",
       "2             0  1467810917  Mon Apr 06 22:19:53 PDT 2009  NO_QUERY   \n",
       "3             0  1467811184  Mon Apr 06 22:19:57 PDT 2009  NO_QUERY   \n",
       "4             0  1467811193  Mon Apr 06 22:19:57 PDT 2009  NO_QUERY   \n",
       "...         ...         ...                           ...       ...   \n",
       "1599995       4  2193601966  Tue Jun 16 08:40:49 PDT 2009  NO_QUERY   \n",
       "1599996       4  2193601969  Tue Jun 16 08:40:49 PDT 2009  NO_QUERY   \n",
       "1599997       4  2193601991  Tue Jun 16 08:40:49 PDT 2009  NO_QUERY   \n",
       "1599998       4  2193602064  Tue Jun 16 08:40:49 PDT 2009  NO_QUERY   \n",
       "1599999       4  2193602129  Tue Jun 16 08:40:50 PDT 2009  NO_QUERY   \n",
       "\n",
       "                    user  \\\n",
       "0        _TheSpecialOne_   \n",
       "1          scotthamilton   \n",
       "2               mattycus   \n",
       "3                ElleCTF   \n",
       "4                 Karoli   \n",
       "...                  ...   \n",
       "1599995  AmandaMarie1028   \n",
       "1599996      TheWDBoards   \n",
       "1599997           bpbabe   \n",
       "1599998     tinydiamondz   \n",
       "1599999   RyanTrevMorris   \n",
       "\n",
       "                                                                                                        text  \n",
       "0        @switchfoot http://twitpic.com/2y1zl - Awww, that's a bummer.  You shoulda got David Carr of Thi...  \n",
       "1        is upset that he can't update his Facebook by texting it... and might cry as a result  School to...  \n",
       "2                  @Kenichan I dived many times for the ball. Managed to save 50%  The rest go out of bounds  \n",
       "3                                                            my whole body feels itchy and like its on fire   \n",
       "4        @nationwideclass no, it's not behaving at all. i'm mad. why am i here? because I can't see you a...  \n",
       "...                                                                                                      ...  \n",
       "1599995                                             Just woke up. Having no school is the best feeling ever   \n",
       "1599996                       TheWDB.com - Very cool to hear old Walt interviews!  â« http://blip.fm/~8bmta  \n",
       "1599997                                            Are you ready for your MoJo Makeover? Ask me for details   \n",
       "1599998                                    Happy 38th Birthday to my boo of alll time!!! Tupac Amaru Shakur   \n",
       "1599999                                       happy #charitytuesday @theNSPCC @SparksCharity @SpeakingUpH4H   \n",
       "\n",
       "[1600000 rows x 6 columns]"
      ]
     },
     "metadata": {},
     "output_type": "display_data"
    }
   ],
   "source": [
    "def load_data():\n",
    "    column_names = [\"target\", \"ids\", \"date\", \"flag\", \"user\", \"text\"]\n",
    "    df = pd.read_csv(\"sentiment140/training.1600000.processed.noemoticon.csv\", names=column_names, encoding='latin1')\n",
    "    display(df)\n",
    "    return df\n",
    "\n",
    "df = load_data()"
   ]
  },
  {
   "cell_type": "markdown",
   "id": "668bdd0a",
   "metadata": {},
   "source": [
    "## Analyse des données"
   ]
  },
  {
   "cell_type": "code",
   "execution_count": 16,
   "id": "83b70ef0",
   "metadata": {},
   "outputs": [
    {
     "name": "stdout",
     "output_type": "stream",
     "text": [
      "<class 'pandas.core.frame.DataFrame'>\n",
      "RangeIndex: 1600000 entries, 0 to 1599999\n",
      "Data columns (total 6 columns):\n",
      " #   Column  Non-Null Count    Dtype \n",
      "---  ------  --------------    ----- \n",
      " 0   target  1600000 non-null  int64 \n",
      " 1   ids     1600000 non-null  int64 \n",
      " 2   date    1600000 non-null  object\n",
      " 3   flag    1600000 non-null  object\n",
      " 4   user    1600000 non-null  object\n",
      " 5   text    1600000 non-null  object\n",
      "dtypes: int64(2), object(4)\n",
      "memory usage: 73.2+ MB\n"
     ]
    },
    {
     "data": {
      "text/plain": [
       "target          2\n",
       "ids       1598315\n",
       "date       774363\n",
       "flag            1\n",
       "user       659775\n",
       "text      1581466\n",
       "dtype: int64"
      ]
     },
     "execution_count": 16,
     "metadata": {},
     "output_type": "execute_result"
    }
   ],
   "source": [
    "df.info()\n",
    "df.nunique()"
   ]
  },
  {
   "cell_type": "code",
   "execution_count": 5,
   "id": "041055d8",
   "metadata": {},
   "outputs": [
    {
     "name": "stdout",
     "output_type": "stream",
     "text": [
      "target    0.0\n",
      "ids       0.0\n",
      "date      0.0\n",
      "flag      0.0\n",
      "user      0.0\n",
      "text      0.0\n",
      "dtype: float64\n",
      "Nombres de tweets dupliqués :  18534\n",
      "col = target -> duplicated = 1599998\n",
      "col = ids -> duplicated = 1685\n",
      "col = date -> duplicated = 825637\n",
      "col = flag -> duplicated = 1599999\n",
      "col = user -> duplicated = 940225\n",
      "col = text -> duplicated = 18534\n",
      "\n",
      "\n",
      "0          False\n",
      "1          False\n",
      "2          False\n",
      "3          False\n",
      "4          False\n",
      "           ...  \n",
      "1599995    False\n",
      "1599996    False\n",
      "1599997    False\n",
      "1599998    False\n",
      "1599999    False\n",
      "Name: text, Length: 1600000, dtype: bool\n"
     ]
    },
    {
     "data": {
      "text/html": [
       "<div>\n",
       "<style scoped>\n",
       "    .dataframe tbody tr th:only-of-type {\n",
       "        vertical-align: middle;\n",
       "    }\n",
       "\n",
       "    .dataframe tbody tr th {\n",
       "        vertical-align: top;\n",
       "    }\n",
       "\n",
       "    .dataframe thead th {\n",
       "        text-align: right;\n",
       "    }\n",
       "</style>\n",
       "<table border=\"1\" class=\"dataframe\">\n",
       "  <thead>\n",
       "    <tr style=\"text-align: right;\">\n",
       "      <th></th>\n",
       "      <th>target</th>\n",
       "      <th>ids</th>\n",
       "    </tr>\n",
       "  </thead>\n",
       "  <tbody>\n",
       "    <tr>\n",
       "      <th>count</th>\n",
       "      <td>1.600000e+06</td>\n",
       "      <td>1.600000e+06</td>\n",
       "    </tr>\n",
       "    <tr>\n",
       "      <th>mean</th>\n",
       "      <td>2.000000e+00</td>\n",
       "      <td>1.998818e+09</td>\n",
       "    </tr>\n",
       "    <tr>\n",
       "      <th>std</th>\n",
       "      <td>2.000001e+00</td>\n",
       "      <td>1.935761e+08</td>\n",
       "    </tr>\n",
       "    <tr>\n",
       "      <th>min</th>\n",
       "      <td>0.000000e+00</td>\n",
       "      <td>1.467810e+09</td>\n",
       "    </tr>\n",
       "    <tr>\n",
       "      <th>25%</th>\n",
       "      <td>0.000000e+00</td>\n",
       "      <td>1.956916e+09</td>\n",
       "    </tr>\n",
       "    <tr>\n",
       "      <th>50%</th>\n",
       "      <td>2.000000e+00</td>\n",
       "      <td>2.002102e+09</td>\n",
       "    </tr>\n",
       "    <tr>\n",
       "      <th>75%</th>\n",
       "      <td>4.000000e+00</td>\n",
       "      <td>2.177059e+09</td>\n",
       "    </tr>\n",
       "    <tr>\n",
       "      <th>max</th>\n",
       "      <td>4.000000e+00</td>\n",
       "      <td>2.329206e+09</td>\n",
       "    </tr>\n",
       "  </tbody>\n",
       "</table>\n",
       "</div>"
      ],
      "text/plain": [
       "             target           ids\n",
       "count  1.600000e+06  1.600000e+06\n",
       "mean   2.000000e+00  1.998818e+09\n",
       "std    2.000001e+00  1.935761e+08\n",
       "min    0.000000e+00  1.467810e+09\n",
       "25%    0.000000e+00  1.956916e+09\n",
       "50%    2.000000e+00  2.002102e+09\n",
       "75%    4.000000e+00  2.177059e+09\n",
       "max    4.000000e+00  2.329206e+09"
      ]
     },
     "metadata": {},
     "output_type": "display_data"
    },
    {
     "data": {
      "text/html": [
       "<div>\n",
       "<style scoped>\n",
       "    .dataframe tbody tr th:only-of-type {\n",
       "        vertical-align: middle;\n",
       "    }\n",
       "\n",
       "    .dataframe tbody tr th {\n",
       "        vertical-align: top;\n",
       "    }\n",
       "\n",
       "    .dataframe thead th {\n",
       "        text-align: right;\n",
       "    }\n",
       "</style>\n",
       "<table border=\"1\" class=\"dataframe\">\n",
       "  <thead>\n",
       "    <tr style=\"text-align: right;\">\n",
       "      <th></th>\n",
       "      <th>date</th>\n",
       "      <th>flag</th>\n",
       "      <th>user</th>\n",
       "      <th>text</th>\n",
       "    </tr>\n",
       "  </thead>\n",
       "  <tbody>\n",
       "    <tr>\n",
       "      <th>count</th>\n",
       "      <td>1600000</td>\n",
       "      <td>1600000</td>\n",
       "      <td>1600000</td>\n",
       "      <td>1600000</td>\n",
       "    </tr>\n",
       "    <tr>\n",
       "      <th>unique</th>\n",
       "      <td>774363</td>\n",
       "      <td>1</td>\n",
       "      <td>659775</td>\n",
       "      <td>1581466</td>\n",
       "    </tr>\n",
       "    <tr>\n",
       "      <th>top</th>\n",
       "      <td>Mon Jun 15 12:53:14 PDT 2009</td>\n",
       "      <td>NO_QUERY</td>\n",
       "      <td>lost_dog</td>\n",
       "      <td>isPlayer Has Died! Sorry</td>\n",
       "    </tr>\n",
       "    <tr>\n",
       "      <th>freq</th>\n",
       "      <td>20</td>\n",
       "      <td>1600000</td>\n",
       "      <td>549</td>\n",
       "      <td>210</td>\n",
       "    </tr>\n",
       "  </tbody>\n",
       "</table>\n",
       "</div>"
      ],
      "text/plain": [
       "                                date      flag      user  \\\n",
       "count                        1600000   1600000   1600000   \n",
       "unique                        774363         1    659775   \n",
       "top     Mon Jun 15 12:53:14 PDT 2009  NO_QUERY  lost_dog   \n",
       "freq                              20   1600000       549   \n",
       "\n",
       "                             text  \n",
       "count                     1600000  \n",
       "unique                    1581466  \n",
       "top     isPlayer Has Died! Sorry   \n",
       "freq                          210  "
      ]
     },
     "metadata": {},
     "output_type": "display_data"
    },
    {
     "data": {
      "image/png": "[encoded data removed]",
      "text/plain": [
       "<Figure size 1000x800 with 2 Axes>"
      ]
     },
     "metadata": {},
     "output_type": "display_data"
    }
   ],
   "source": [
    "def analyse_data(data):\n",
    "    \"\"\"\n",
    "    Analyse un DataFrame en affichant le pourcentage de valeurs manquantes, une heatmap des valeurs manquantes,\n",
    "    le nombre de doublons pour l'ensemble du DataFrame et par colonne. Affiche également des statistiques\n",
    "    descriptives pour les colonnes numériques et non numériques.\n",
    "\n",
    "    Args:\n",
    "        data (pandas.DataFrame): DataFrame à analyser.\n",
    "\n",
    "    Returns:\n",
    "        None. Cette fonction affiche directement les informations et les graphiques.\n",
    "    \"\"\"\n",
    "    print(data.isna().mean().sort_values())\n",
    "    plt.figure(figsize=(10, 8))\n",
    "    sns.heatmap(data.isna())\n",
    "    print(\"Nombres de tweets dupliqués : \", data.text.duplicated().sum())\n",
    "    for col in data.columns:\n",
    "        n = data[col].duplicated().sum()\n",
    "        print(f\"col = {col} -> duplicated = {n}\")\n",
    "    print(\"\\n\")\n",
    "    print(data.text.duplicated(keep=\"first\"))\n",
    "    idx = data.text.duplicated(keep=\"first\")\n",
    "    data.loc[idx, :].sort_values(\"text\").head(10)\n",
    "    display(data.describe(include=np.number))\n",
    "    display(data.describe(include=object))\n",
    "\n",
    "analyse_data(df)"
   ]
  },
  {
   "cell_type": "code",
   "execution_count": 18,
   "id": "09c20fea",
   "metadata": {},
   "outputs": [
    {
     "name": "stderr",
     "output_type": "stream",
     "text": [
      "C:\\Users\\aurel\\miniconda3\\envs\\tensorflow\\lib\\site-packages\\seaborn\\axisgrid.py:64: UserWarning: The figure layout has changed to tight\n",
      "  self.fig.tight_layout(*args, **kwargs)\n"
     ]
    },
    {
     "data": {
      "text/plain": [
       "Text(0.5, 1.0, 'Distribution du nombre de caractères des tweets')"
      ]
     },
     "execution_count": 18,
     "metadata": {},
     "output_type": "execute_result"
    },
    {
     "data": {
      "image/png": "[encoded data removed]",
      "text/plain": [
       "<Figure size 500x500 with 1 Axes>"
      ]
     },
     "metadata": {},
     "output_type": "display_data"
    }
   ],
   "source": [
    "tmp = df.text.str.len()\n",
    "sns.displot(tmp)\n",
    "plt.title(\"Distribution du nombre de caractères des tweets\")"
   ]
  },
  {
   "cell_type": "code",
   "execution_count": 19,
   "id": "7e10b1fc",
   "metadata": {},
   "outputs": [
    {
     "data": {
      "text/plain": [
       "1295281    374\n",
       "1484882    369\n",
       "380539     359\n",
       "1582941    359\n",
       "650945     348\n",
       "          ... \n",
       "1071086      6\n",
       "1229947      6\n",
       "4233         6\n",
       "310554       6\n",
       "1050599      6\n",
       "Name: text, Length: 1600000, dtype: int64"
      ]
     },
     "execution_count": 19,
     "metadata": {},
     "output_type": "execute_result"
    }
   ],
   "source": [
    "tmp.sort_values(ascending=False)"
   ]
  },
  {
   "cell_type": "code",
   "execution_count": 3,
   "id": "226d2ce6",
   "metadata": {},
   "outputs": [
    {
     "data": {
      "text/html": [
       "<div>\n",
       "<style scoped>\n",
       "    .dataframe tbody tr th:only-of-type {\n",
       "        vertical-align: middle;\n",
       "    }\n",
       "\n",
       "    .dataframe tbody tr th {\n",
       "        vertical-align: top;\n",
       "    }\n",
       "\n",
       "    .dataframe thead th {\n",
       "        text-align: right;\n",
       "    }\n",
       "</style>\n",
       "<table border=\"1\" class=\"dataframe\">\n",
       "  <thead>\n",
       "    <tr style=\"text-align: right;\">\n",
       "      <th></th>\n",
       "      <th>target</th>\n",
       "      <th>text</th>\n",
       "    </tr>\n",
       "  </thead>\n",
       "  <tbody>\n",
       "    <tr>\n",
       "      <th>208</th>\n",
       "      <td>0</td>\n",
       "      <td>@mandayyy</td>\n",
       "    </tr>\n",
       "    <tr>\n",
       "      <th>249</th>\n",
       "      <td>0</td>\n",
       "      <td>@mandayyy</td>\n",
       "    </tr>\n",
       "    <tr>\n",
       "      <th>398</th>\n",
       "      <td>0</td>\n",
       "      <td>@danadearmond</td>\n",
       "    </tr>\n",
       "    <tr>\n",
       "      <th>430</th>\n",
       "      <td>0</td>\n",
       "      <td>@anistorm</td>\n",
       "    </tr>\n",
       "    <tr>\n",
       "      <th>1011</th>\n",
       "      <td>0</td>\n",
       "      <td>@citizensheep</td>\n",
       "    </tr>\n",
       "    <tr>\n",
       "      <th>1014</th>\n",
       "      <td>0</td>\n",
       "      <td>@GirlsGoneChild</td>\n",
       "    </tr>\n",
       "    <tr>\n",
       "      <th>1231</th>\n",
       "      <td>0</td>\n",
       "      <td>@thecoolestout</td>\n",
       "    </tr>\n",
       "    <tr>\n",
       "      <th>1421</th>\n",
       "      <td>0</td>\n",
       "      <td>@marlonjenglish</td>\n",
       "    </tr>\n",
       "    <tr>\n",
       "      <th>1486</th>\n",
       "      <td>0</td>\n",
       "      <td>@oishiieats</td>\n",
       "    </tr>\n",
       "    <tr>\n",
       "      <th>1641</th>\n",
       "      <td>0</td>\n",
       "      <td>@thisisguan</td>\n",
       "    </tr>\n",
       "    <tr>\n",
       "      <th>2898</th>\n",
       "      <td>0</td>\n",
       "      <td>@AnotherA</td>\n",
       "    </tr>\n",
       "    <tr>\n",
       "      <th>4377</th>\n",
       "      <td>0</td>\n",
       "      <td>@TheBlondeTheory</td>\n",
       "    </tr>\n",
       "    <tr>\n",
       "      <th>4508</th>\n",
       "      <td>0</td>\n",
       "      <td>@_EmilyYoung</td>\n",
       "    </tr>\n",
       "    <tr>\n",
       "      <th>6058</th>\n",
       "      <td>0</td>\n",
       "      <td>@Tnkdifferent</td>\n",
       "    </tr>\n",
       "    <tr>\n",
       "      <th>6419</th>\n",
       "      <td>0</td>\n",
       "      <td>@whiterobisdead</td>\n",
       "    </tr>\n",
       "    <tr>\n",
       "      <th>7840</th>\n",
       "      <td>0</td>\n",
       "      <td>@reinmouse</td>\n",
       "    </tr>\n",
       "    <tr>\n",
       "      <th>8838</th>\n",
       "      <td>0</td>\n",
       "      <td>@wunmic</td>\n",
       "    </tr>\n",
       "    <tr>\n",
       "      <th>9072</th>\n",
       "      <td>0</td>\n",
       "      <td>@theropolitans</td>\n",
       "    </tr>\n",
       "    <tr>\n",
       "      <th>9556</th>\n",
       "      <td>0</td>\n",
       "      <td>@whatkilesaid</td>\n",
       "    </tr>\n",
       "    <tr>\n",
       "      <th>9599</th>\n",
       "      <td>0</td>\n",
       "      <td>@CHELLETASTIC</td>\n",
       "    </tr>\n",
       "  </tbody>\n",
       "</table>\n",
       "</div>"
      ],
      "text/plain": [
       "      target              text\n",
       "208        0         @mandayyy\n",
       "249        0         @mandayyy\n",
       "398        0     @danadearmond\n",
       "430        0         @anistorm\n",
       "1011       0     @citizensheep\n",
       "1014       0   @GirlsGoneChild\n",
       "1231       0    @thecoolestout\n",
       "1421       0   @marlonjenglish\n",
       "1486       0       @oishiieats\n",
       "1641       0       @thisisguan\n",
       "2898       0         @AnotherA\n",
       "4377       0  @TheBlondeTheory\n",
       "4508       0      @_EmilyYoung\n",
       "6058       0     @Tnkdifferent\n",
       "6419       0   @whiterobisdead\n",
       "7840       0        @reinmouse\n",
       "8838       0           @wunmic\n",
       "9072       0    @theropolitans\n",
       "9556       0     @whatkilesaid\n",
       "9599       0     @CHELLETASTIC"
      ]
     },
     "metadata": {},
     "output_type": "display_data"
    },
    {
     "name": "stdout",
     "output_type": "stream",
     "text": [
      "Nombre de tweets non informatif supprimés : 2552\n"
     ]
    }
   ],
   "source": [
    "def drop_columns(df):\n",
    "    df = df[['target', 'text']]\n",
    "    return df\n",
    "\n",
    "def drop_text_duplicate(df):\n",
    "    df = df.drop_duplicates(subset=\"text\")\n",
    "    return df\n",
    "\n",
    "def filter_tweet(df):\n",
    "    df['text'] = df['text'].str.strip()\n",
    "    filtered_df = df[df['text'].str.match('^(@\\w+\\s*)+$')]\n",
    "    df = df.drop(filtered_df.index, axis= 0)\n",
    "    display(filtered_df.head(20))\n",
    "    print(f\"Nombre de tweets non informatif supprimés : {filtered_df.shape[0]}\")\n",
    "    return df\n",
    "\n",
    "df = drop_columns(df)\n",
    "df = drop_text_duplicate(df)\n",
    "df = filter_tweet(df)"
   ]
  },
  {
   "cell_type": "code",
   "execution_count": 4,
   "id": "164a90ed",
   "metadata": {},
   "outputs": [],
   "source": [
    "def create_sample(df, n_sample):\n",
    "    negative_tweets = df[df.iloc[:, 0] == 0]\n",
    "    negative_tweets = negative_tweets.sample(n = n_sample, random_state=0)\n",
    "    positive_tweets = df[df.iloc[:, 0] == 4]\n",
    "    positive_tweets.loc[:,'target'] = positive_tweets['target'].replace({4:1})\n",
    "    positive_tweets = positive_tweets.sample(n = n_sample, random_state=0)\n",
    "    df_sample = pd.concat([negative_tweets, positive_tweets], ignore_index=True)\n",
    "    return df_sample\n",
    "df_sample = create_sample(df, 750_000)"
   ]
  },
  {
   "cell_type": "code",
   "execution_count": 10,
   "id": "57d0aba4",
   "metadata": {},
   "outputs": [
    {
     "data": {
      "text/plain": [
       "target\n",
       "0    0.5\n",
       "1    0.5\n",
       "Name: proportion, dtype: float64"
      ]
     },
     "execution_count": 10,
     "metadata": {},
     "output_type": "execute_result"
    }
   ],
   "source": [
    "df_sample.target.value_counts(normalize=True)"
   ]
  },
  {
   "cell_type": "code",
   "execution_count": 5,
   "id": "4bc5e286",
   "metadata": {},
   "outputs": [
    {
     "name": "stdout",
     "output_type": "stream",
     "text": [
      "nb tokens 236736, nb tokens uniques 235892\n",
      "['A', 'a', 'aa', 'aal', 'aalii', 'aam', 'Aani', 'aardvark', 'aardwolf', 'Aaron', 'Aaronic', 'Aaronical', 'Aaronite', 'Aaronitic', 'Aaru', 'Ab', 'aba', 'Ababdeh', 'Ababua', 'abac', 'abaca', 'abacate', 'abacay', 'abacinate', 'abacination', 'abaciscus', 'abacist', 'aback', 'abactinal', 'abactinally']\n"
     ]
    }
   ],
   "source": [
    "def display_tokens_info(tokens):\n",
    "    \"\"\"display info about corpus\"\"\"\n",
    "    print(f\"nb tokens {len(tokens)}, nb tokens uniques {len(set(tokens))}\")\n",
    "    print(tokens[:30])\n",
    "eng_words = nltk.corpus.words.words()\n",
    "display_tokens_info(eng_words)"
   ]
  },
  {
   "cell_type": "code",
   "execution_count": 12,
   "id": "695b80ce",
   "metadata": {},
   "outputs": [
    {
     "name": "stdout",
     "output_type": "stream",
     "text": [
      "nb tokens 236736, nb tokens uniques 178311\n",
      "['a', 'a', 'aa', 'aal', 'aalii', 'aam', 'aani', 'aardvark', 'aardwolf', 'aaron', 'aaron', 'aaron', 'aaronit', 'aaronit', 'aaru', 'ab', 'aba', 'ababdeh', 'ababua', 'abac', 'abaca', 'abac', 'abacay', 'abacin', 'abacin', 'abaciscu', 'abacist', 'aback', 'abactin', 'abactin']\n"
     ]
    }
   ],
   "source": [
    "ps = nltk.PorterStemmer()\n",
    "eng_words_stem = [ps.stem(i) for i in eng_words]\n",
    "display_tokens_info(eng_words_stem)"
   ]
  },
  {
   "cell_type": "code",
   "execution_count": 13,
   "id": "a6a72850",
   "metadata": {},
   "outputs": [
    {
     "name": "stdout",
     "output_type": "stream",
     "text": [
      "nb tokens 236736, nb tokens uniques 235068\n",
      "['A', 'a', 'aa', 'aal', 'aalii', 'aam', 'Aani', 'aardvark', 'aardwolf', 'Aaron', 'Aaronic', 'Aaronical', 'Aaronite', 'Aaronitic', 'Aaru', 'Ab', 'aba', 'Ababdeh', 'Ababua', 'abac', 'abaca', 'abacate', 'abacay', 'abacinate', 'abacination', 'abaciscus', 'abacist', 'aback', 'abactinal', 'abactinally']\n"
     ]
    }
   ],
   "source": [
    "lm = nltk.WordNetLemmatizer()\n",
    "eng_words_lem = [lm.lemmatize(i) for i in eng_words]\n",
    "display_tokens_info(eng_words_lem)"
   ]
  },
  {
   "cell_type": "code",
   "execution_count": 14,
   "id": "fe7fd788",
   "metadata": {},
   "outputs": [
    {
     "data": {
      "text/plain": [
       "\"\\nnltk.download('omw-1.4')\\nnltk.download('wordnet')\\nnltk.download('stopwords')\\nnltk.download('words')\\n\""
      ]
     },
     "execution_count": 14,
     "metadata": {},
     "output_type": "execute_result"
    }
   ],
   "source": [
    "\"\"\"\n",
    "nltk.download('omw-1.4')\n",
    "nltk.download('wordnet')\n",
    "nltk.download('stopwords')\n",
    "nltk.download('words')\n",
    "\"\"\""
   ]
  },
  {
   "cell_type": "markdown",
   "id": "a7dd1f77",
   "metadata": {},
   "source": [
    "### Preprocessing"
   ]
  },
  {
   "cell_type": "code",
   "execution_count": 6,
   "id": "544b3319",
   "metadata": {},
   "outputs": [],
   "source": [
    "def expand_contractions(text: str) -> str:\n",
    "    \n",
    "    flags = re.IGNORECASE | re.MULTILINE\n",
    "    \n",
    "    text = re.sub(r'`', \"'\", text, flags = flags)\n",
    "    \n",
    "    ## starts / ends with '\n",
    "    text = re.sub(\n",
    "        r\"(\\s|^)'(aight|cause)(\\s|$)\",\n",
    "        '\\g<1>\\g<2>\\g<3>',\n",
    "        text, flags = flags\n",
    "    )\n",
    "    \n",
    "    text = re.sub(\n",
    "        r\"(\\s|^)'t(was|is)(\\s|$)\", r'\\g<1>it \\g<2>\\g<3>',\n",
    "        text,\n",
    "        flags = flags\n",
    "    )\n",
    "    \n",
    "    text = re.sub(\n",
    "        r\"(\\s|^)ol'(\\s|$)\",\n",
    "        '\\g<1>old\\g<2>',\n",
    "        text, flags = flags\n",
    "    )\n",
    "    \n",
    "    ## expand words without '\n",
    "    text = re.sub(r\"\\b(aight)\\b\", 'alright', text, flags = flags)\n",
    "    text = re.sub(r'\\bcause\\b', 'because', text, flags = flags)\n",
    "    text = re.sub(r'\\b(finna|gonna)\\b', 'going to', text, flags = flags)\n",
    "    text = re.sub(r'\\bgimme\\b', 'give me', text, flags = flags)\n",
    "    text = re.sub(r\"\\bgive'n\\b\", 'given', text, flags = flags)\n",
    "    text = re.sub(r\"\\bhowdy\\b\", 'how do you do', text, flags = flags)\n",
    "    text = re.sub(r\"\\bgotta\\b\", 'got to', text, flags = flags)\n",
    "    text = re.sub(r\"\\binnit\\b\", 'is it not', text, flags = flags)\n",
    "    text = re.sub(r\"\\b(can)(not)\\b\", r'\\g<1> \\g<2>', text, flags = flags)\n",
    "    text = re.sub(r\"\\bwanna\\b\", 'want to', text, flags = flags)\n",
    "    text = re.sub(r\"\\bmethinks\\b\", 'me thinks', text, flags = flags)\n",
    "    \n",
    "    ## one offs,\n",
    "    text = re.sub(r\"\\bo'er\\b\", r'over', text, flags = flags)\n",
    "    text = re.sub(r\"\\bne'er\\b\", r'never', text, flags = flags)\n",
    "    text = re.sub(r\"\\bo'?clock\\b\", 'of the clock', text, flags = flags)\n",
    "    text = re.sub(r\"\\bma'am\\b\", 'madam', text, flags = flags)\n",
    "    text = re.sub(r\"\\bgiv'n\\b\", 'given', text, flags = flags)\n",
    "    text = re.sub(r\"\\be'er\\b\", 'ever', text, flags = flags)\n",
    "    text = re.sub(r\"\\bd'ye\\b\", 'do you', text, flags = flags)\n",
    "    text = re.sub(r\"\\be'er\\b\", 'ever', text, flags = flags)\n",
    "    text = re.sub(r\"\\bd'ye\\b\", 'do you', text, flags = flags)\n",
    "    text = re.sub(r\"\\bg'?day\\b\", 'good day', text, flags = flags)\n",
    "    text = re.sub(r\"\\b(ain|amn)'?t\\b\", 'am not', text, flags = flags)\n",
    "    text = re.sub(r\"\\b(are|can)'?t\\b\", r'\\g<1> not', text, flags = flags)\n",
    "    text = re.sub(r\"\\b(let)'?s\\b\", r'\\g<1> us', text, flags = flags)\n",
    "    \n",
    "    ## major expansions involving smaller,\n",
    "    text = re.sub(r\"\\by'all'dn't've'd\\b\", 'you all would not have had', text, flags = flags)\n",
    "    text = re.sub(r\"\\by'all're\\b\", 'you all are', text, flags = flags)\n",
    "    text = re.sub(r\"\\by'all'd've\\b\", 'you all would have', text, flags = flags)\n",
    "    text = re.sub(r\"(\\s)y'all(\\s)\", r'\\g<1>you all\\g<2>', text, flags = flags)\n",
    "    \n",
    "    ## minor,\n",
    "    text = re.sub(r\"\\b(won)'?t\\b\", 'will not', text, flags = flags)\n",
    "    text = re.sub(r\"\\bhe'd\\b\", 'he had', text, flags = flags)\n",
    "\n",
    "    ## major,\n",
    "    text = re.sub(r\"\\b(I|we|who)'?d'?ve\\b\", r'\\g<1> would have', text, flags = flags)\n",
    "    text = re.sub(r\"\\b(could|would|must|should|would)n'?t'?ve\\b\", r'\\g<1> not have', text, flags = flags)\n",
    "    text = re.sub(r\"\\b(he)'?dn'?t'?ve'?d\\b\", r'\\g<1> would not have had', text, flags = flags)\n",
    "    text = re.sub(r\"\\b(daren|daresn|dasn)'?t\", 'dare not', text, flags = flags)\n",
    "    text = re.sub(r\"\\b(he|how|i|it|she|that|there|these|they|we|what|where|which|who|you)'?ll\\b\", r'\\g<1> will', text, flags = flags)\n",
    "    text = re.sub(r\"\\b(everybody|everyone|he|how|it|she|somebody|someone|something|that|there|this|what|when|where|which|who|why)'?s\\b\", r'\\g<1> is', text, flags = flags)\n",
    "    text = re.sub(r\"\\b(I)'?m'a\\b\", r'\\g<1> am about to', text, flags = flags)\n",
    "    text = re.sub(r\"\\b(I)'?m'o\\b\", r'\\g<1> am going to', text, flags = flags)\n",
    "    text = re.sub(r\"\\b(I)'?m\\b\", r'\\g<1> am', text, flags = flags)\n",
    "    text = re.sub(r\"\\bshan't\\b\", 'shall not', text, flags = flags)\n",
    "    text = re.sub(r\"\\b(are|could|did|does|do|go|had|has|have|is|may|might|must|need|ought|shall|should|was|were|would)n'?t\\b\", r'\\g<1> not', text, flags = flags)\n",
    "    text = re.sub(r\"\\b(could|had|he|i|may|might|must|should|these|they|those|to|we|what|where|which|who|would|you)'?ve\\b\", r'\\g<1> have', text, flags = flags)\n",
    "    text = re.sub(r\"\\b(how|so|that|there|these|they|those|we|what|where|which|who|why|you)'?re\\b\", r'\\g<1> are', text, flags = flags)\n",
    "    text = re.sub(r\"\\b(I|it|she|that|there|they|we|which|you)'?d\\b\", r'\\g<1> had', text, flags = flags)\n",
    "    text = re.sub(r\"\\b(how|what|where|who|why)'?d\\b\", r'\\g<1> did', text, flags = flags)\n",
    "\n",
    "    \n",
    "    return text"
   ]
  },
  {
   "cell_type": "code",
   "execution_count": 7,
   "id": "362a0ab4",
   "metadata": {},
   "outputs": [],
   "source": [
    "class ExpandContractionsComponent:\n",
    "    name = \"expand_contractions\"\n",
    "\n",
    "    def __init__(self, nlp: Language):\n",
    "        self.nlp = nlp\n",
    "\n",
    "    def __call__(self, doc: Doc) -> Doc:\n",
    "        text = doc.text\n",
    "        text = expand_contractions(text)\n",
    "        return self.nlp.make_doc(text)\n",
    "\n",
    "@Language.factory('expand_contractions')\n",
    "def create_expand_contractions(nlp, name):\n",
    "    return ExpandContractionsComponent(nlp)"
   ]
  },
  {
   "cell_type": "code",
   "execution_count": 8,
   "id": "07de8369",
   "metadata": {},
   "outputs": [],
   "source": [
    "def clean_docs(texts, lemmatize=False, stem=False, rejoin=False):\n",
    "    if lemmatize and stem:\n",
    "        raise ValueError(\"Un seul transformateur peut être appliqué.\")\n",
    "        \n",
    "    def clean_text(text):\n",
    "        text = re.sub(r'@[A-Za-z0-9_-]{1,15}\\b',\" \", text)\n",
    "        text = re.sub(r'https?://[A-Za-z0-9./]+',\" \", text)\n",
    "        text = re.sub(r'&amp;|&quot;', \" \", text)\n",
    "        return text\n",
    "    texts = [clean_text(text) for text in texts]\n",
    "    \n",
    "    nlp = spacy.load('en_core_web_lg')\n",
    "    docs = nlp.pipe(texts, disable=['parser', 'ner', 'textcat', 'tok2vec'], batch_size=10_000)\n",
    "    nlp.add_pipe('expand_contractions', before='tagger')\n",
    "    stemmer = nltk.PorterStemmer()\n",
    "    \n",
    "    docs_cleaned = []\n",
    "    for doc in docs:\n",
    "        doc = [token for token in doc if token.is_alpha]\n",
    "        if lemmatize:\n",
    "            tokens = [tok.lemma_.strip() for tok in doc]\n",
    "        elif stem:\n",
    "            tokens = [stemmer.stem(tok.text.strip()) for tok in doc]\n",
    "        else:\n",
    "            tokens = [tok.text.strip() for tok in doc]\n",
    "        \n",
    "        if rejoin:\n",
    "            tokens = ' '.join(tokens)\n",
    "        docs_cleaned.append(tokens)\n",
    "    \n",
    "    return docs_cleaned\n",
    "\n",
    "class SpacyTextCleaner(BaseEstimator, TransformerMixin):\n",
    "    def __init__(self, lemmatize=False, stem=False, rejoin=False):\n",
    "        self.lemmatize = lemmatize\n",
    "        self.stem = stem\n",
    "        self.rejoin = rejoin\n",
    "\n",
    "    def fit(self, X, y=None):\n",
    "        return self\n",
    "\n",
    "    def transform(self, X, y=None):\n",
    "        return clean_docs(X, self.lemmatize, self.stem, self.rejoin)"
   ]
  },
  {
   "cell_type": "code",
   "execution_count": 9,
   "id": "0d93b5df",
   "metadata": {},
   "outputs": [
    {
     "name": "stderr",
     "output_type": "stream",
     "text": [
      "100%|███████████████████████████████████████████████████████████████████| 1500000/1500000 [00:00<00:00, 4503537.93it/s]\n"
     ]
    },
    {
     "name": "stdout",
     "output_type": "stream",
     "text": [
      "CPU times: total: 6min 33s\n",
      "Wall time: 10min 54s\n"
     ]
    }
   ],
   "source": [
    "%%time\n",
    "df_sample['clean_text_lem'] = tqdm(clean_docs(df_sample['text'], lemmatize=True))"
   ]
  },
  {
   "cell_type": "code",
   "execution_count": 14,
   "id": "2b7790b2",
   "metadata": {},
   "outputs": [
    {
     "data": {
      "text/html": [
       "<div>\n",
       "<style scoped>\n",
       "    .dataframe tbody tr th:only-of-type {\n",
       "        vertical-align: middle;\n",
       "    }\n",
       "\n",
       "    .dataframe tbody tr th {\n",
       "        vertical-align: top;\n",
       "    }\n",
       "\n",
       "    .dataframe thead th {\n",
       "        text-align: right;\n",
       "    }\n",
       "</style>\n",
       "<table border=\"1\" class=\"dataframe\">\n",
       "  <thead>\n",
       "    <tr style=\"text-align: right;\">\n",
       "      <th></th>\n",
       "      <th>target</th>\n",
       "      <th>text</th>\n",
       "      <th>clean_text_lem</th>\n",
       "    </tr>\n",
       "  </thead>\n",
       "  <tbody>\n",
       "    <tr>\n",
       "      <th>0</th>\n",
       "      <td>0</td>\n",
       "      <td>[-O] sometimes i wish that i could change time to save the ones i love.  http://tinyurl.com/n6dv9q</td>\n",
       "      <td>[sometimes, i, wish, that, i, could, change, time, to, save, the, ones, i, love]</td>\n",
       "    </tr>\n",
       "    <tr>\n",
       "      <th>1</th>\n",
       "      <td>0</td>\n",
       "      <td>@BabyLuu not if it's yours. ahahaha jk. missss you</td>\n",
       "      <td>[not, if, it, is, yours, ahahaha, jk, missss, you]</td>\n",
       "    </tr>\n",
       "    <tr>\n",
       "      <th>2</th>\n",
       "      <td>0</td>\n",
       "      <td>probably missed out on presale, hopefully ney is prepped for when they actually go on sale. sad ...</td>\n",
       "      <td>[probably, missed, out, on, presale, hopefully, ney, is, prepped, for, when, they, actually, go,...</td>\n",
       "    </tr>\n",
       "    <tr>\n",
       "      <th>3</th>\n",
       "      <td>0</td>\n",
       "      <td>@nicolegaudioso u. R. A. Freak. @jackalltimelow is on mtv now. He doesn't have time 4 us</td>\n",
       "      <td>[freak, is, on, mtv, now, he, does, not, have, time, us]</td>\n",
       "    </tr>\n",
       "    <tr>\n",
       "      <th>4</th>\n",
       "      <td>0</td>\n",
       "      <td>I'm alive! At bff's house. Checked out our new house this afternoon and I'm not happy</td>\n",
       "      <td>[i, am, alive, at, bff, house, checked, out, our, new, house, this, afternoon, and, i, am, not, ...</td>\n",
       "    </tr>\n",
       "    <tr>\n",
       "      <th>...</th>\n",
       "      <td>...</td>\n",
       "      <td>...</td>\n",
       "      <td>...</td>\n",
       "    </tr>\n",
       "    <tr>\n",
       "      <th>1499995</th>\n",
       "      <td>1</td>\n",
       "      <td>@BrianViloria  ohhh so P.Diddy finally got a ticket...  this morning on Ryan Seacrest radio stat...</td>\n",
       "      <td>[ohhh, so, finally, got, a, ticket, this, morning, on, ryan, seacrest, radio, station, he, was, ...</td>\n",
       "    </tr>\n",
       "    <tr>\n",
       "      <th>1499996</th>\n",
       "      <td>1</td>\n",
       "      <td>strawberries for breakfast. it's really summer now</td>\n",
       "      <td>[strawberries, for, breakfast, it, is, really, summer, now]</td>\n",
       "    </tr>\n",
       "    <tr>\n",
       "      <th>1499997</th>\n",
       "      <td>1</td>\n",
       "      <td>@sirrenarae: baby, you have got to get on this  where ARE you???</td>\n",
       "      <td>[baby, you, have, got, to, get, on, this, where, are, you]</td>\n",
       "    </tr>\n",
       "    <tr>\n",
       "      <th>1499998</th>\n",
       "      <td>1</td>\n",
       "      <td>so many plans. working on the summer list.</td>\n",
       "      <td>[so, many, plans, working, on, the, summer, list]</td>\n",
       "    </tr>\n",
       "    <tr>\n",
       "      <th>1499999</th>\n",
       "      <td>1</td>\n",
       "      <td>@fakerobpattzmum what about Victorias room?? Not that I mind patty</td>\n",
       "      <td>[what, about, victorias, room, not, that, i, mind, patty]</td>\n",
       "    </tr>\n",
       "  </tbody>\n",
       "</table>\n",
       "<p>1500000 rows × 3 columns</p>\n",
       "</div>"
      ],
      "text/plain": [
       "         target  \\\n",
       "0             0   \n",
       "1             0   \n",
       "2             0   \n",
       "3             0   \n",
       "4             0   \n",
       "...         ...   \n",
       "1499995       1   \n",
       "1499996       1   \n",
       "1499997       1   \n",
       "1499998       1   \n",
       "1499999       1   \n",
       "\n",
       "                                                                                                        text  \\\n",
       "0         [-O] sometimes i wish that i could change time to save the ones i love.  http://tinyurl.com/n6dv9q   \n",
       "1                                                         @BabyLuu not if it's yours. ahahaha jk. missss you   \n",
       "2        probably missed out on presale, hopefully ney is prepped for when they actually go on sale. sad ...   \n",
       "3                   @nicolegaudioso u. R. A. Freak. @jackalltimelow is on mtv now. He doesn't have time 4 us   \n",
       "4                      I'm alive! At bff's house. Checked out our new house this afternoon and I'm not happy   \n",
       "...                                                                                                      ...   \n",
       "1499995  @BrianViloria  ohhh so P.Diddy finally got a ticket...  this morning on Ryan Seacrest radio stat...   \n",
       "1499996                                                   strawberries for breakfast. it's really summer now   \n",
       "1499997                                     @sirrenarae: baby, you have got to get on this  where ARE you???   \n",
       "1499998                                                           so many plans. working on the summer list.   \n",
       "1499999                                   @fakerobpattzmum what about Victorias room?? Not that I mind patty   \n",
       "\n",
       "                                                                                              clean_text_lem  \n",
       "0                           [sometimes, i, wish, that, i, could, change, time, to, save, the, ones, i, love]  \n",
       "1                                                         [not, if, it, is, yours, ahahaha, jk, missss, you]  \n",
       "2        [probably, missed, out, on, presale, hopefully, ney, is, prepped, for, when, they, actually, go,...  \n",
       "3                                                   [freak, is, on, mtv, now, he, does, not, have, time, us]  \n",
       "4        [i, am, alive, at, bff, house, checked, out, our, new, house, this, afternoon, and, i, am, not, ...  \n",
       "...                                                                                                      ...  \n",
       "1499995  [ohhh, so, finally, got, a, ticket, this, morning, on, ryan, seacrest, radio, station, he, was, ...  \n",
       "1499996                                          [strawberries, for, breakfast, it, is, really, summer, now]  \n",
       "1499997                                           [baby, you, have, got, to, get, on, this, where, are, you]  \n",
       "1499998                                                    [so, many, plans, working, on, the, summer, list]  \n",
       "1499999                                            [what, about, victorias, room, not, that, i, mind, patty]  \n",
       "\n",
       "[1500000 rows x 3 columns]"
      ]
     },
     "execution_count": 14,
     "metadata": {},
     "output_type": "execute_result"
    }
   ],
   "source": [
    "df_sample"
   ]
  },
  {
   "cell_type": "code",
   "execution_count": 20,
   "id": "18a1623a",
   "metadata": {},
   "outputs": [
    {
     "data": {
      "text/html": [
       "<div>\n",
       "<style scoped>\n",
       "    .dataframe tbody tr th:only-of-type {\n",
       "        vertical-align: middle;\n",
       "    }\n",
       "\n",
       "    .dataframe tbody tr th {\n",
       "        vertical-align: top;\n",
       "    }\n",
       "\n",
       "    .dataframe thead th {\n",
       "        text-align: right;\n",
       "    }\n",
       "</style>\n",
       "<table border=\"1\" class=\"dataframe\">\n",
       "  <thead>\n",
       "    <tr style=\"text-align: right;\">\n",
       "      <th></th>\n",
       "      <th>target</th>\n",
       "      <th>text</th>\n",
       "      <th>clean_text_lem</th>\n",
       "    </tr>\n",
       "  </thead>\n",
       "  <tbody>\n",
       "  </tbody>\n",
       "</table>\n",
       "</div>"
      ],
      "text/plain": [
       "Empty DataFrame\n",
       "Columns: [target, text, clean_text_lem]\n",
       "Index: []"
      ]
     },
     "metadata": {},
     "output_type": "display_data"
    },
    {
     "name": "stdout",
     "output_type": "stream",
     "text": [
      "Nombres de tweets vides après Lemmatisation : 0\n"
     ]
    }
   ],
   "source": [
    "empty_tweets = df_sample.loc[df_sample[\"clean_text_lem\"] == \"\"]\n",
    "display(empty_tweets)\n",
    "print(f\"Nombres de tweets vides après Lemmatisation : {empty_tweets.shape[0]}\")"
   ]
  },
  {
   "cell_type": "code",
   "execution_count": 21,
   "id": "4d9564a3",
   "metadata": {},
   "outputs": [],
   "source": [
    "# empty_tweets['target'].value_counts()\n",
    "# df_sample.drop(empty_tweets.index, axis=0, inplace=True)\n",
    "# print(df_sample.target.value_counts(normalize=True))"
   ]
  },
  {
   "cell_type": "markdown",
   "id": "00e0d9b3",
   "metadata": {},
   "source": [
    "On remarque qu'en supprimant les stopwords, certains tweets se retrouvent vides après lemmatisation"
   ]
  },
  {
   "cell_type": "code",
   "execution_count": 9,
   "id": "bc0561fd",
   "metadata": {},
   "outputs": [],
   "source": [
    "def train_valid_test_split(X, y, train_size=0.8, valid_size=0.1, test_size=0.1, random_state=0):\n",
    "    if train_size + valid_size + test_size != 1.0:\n",
    "        raise ValueError(\"Les proportions ne s'additionnent pas à 1.0\")\n",
    "\n",
    "    X_train, X_temp, y_train, y_temp = train_test_split(X,\n",
    "                                                        y,\n",
    "                                                        stratify=y,\n",
    "                                                        test_size=1-train_size,\n",
    "                                                        random_state=random_state)\n",
    "\n",
    "    relative_test_size = test_size / (valid_size + test_size)\n",
    "\n",
    "    X_valid, X_test, y_valid, y_test = train_test_split(X_temp, y_temp,\n",
    "                                                        stratify=y_temp,\n",
    "                                                        test_size=relative_test_size,\n",
    "                                                        random_state=random_state)\n",
    "\n",
    "    return X_train, X_valid, X_test, y_train, y_valid, y_test"
   ]
  },
  {
   "cell_type": "code",
   "execution_count": 10,
   "id": "cb993320",
   "metadata": {},
   "outputs": [],
   "source": [
    "def calcul_metrics(y_valid, y_valid_pred, y_valid_proba, recover = False):\n",
    "    print(classification_report(y_valid, y_valid_pred))\n",
    "    accuracy = accuracy_score(y_valid, y_valid_pred)\n",
    "    print(\"Accuracy score :\", accuracy)\n",
    "    precision = precision_score(y_valid, y_valid_pred)\n",
    "    print(\"Precision Score :\", precision)\n",
    "    recall = recall_score(y_valid, y_valid_pred)\n",
    "    print(\"Recall Score :\", recall)\n",
    "    f1 = f1_score(y_valid, y_valid_pred)\n",
    "    print(\"F1 Score :\", f1)\n",
    "    roc_auc = roc_auc_score(y_valid, y_valid_proba)\n",
    "    print(\"AUC :\" , roc_auc)\n",
    "    aucpr_score = average_precision_score(y_valid, y_valid_proba)\n",
    "    print(\"Average-precision score : \", aucpr_score, \"\\n\")\n",
    "    \n",
    "    if recover:\n",
    "        return accuracy, precision, recall, f1, roc_auc, aucpr_score"
   ]
  },
  {
   "cell_type": "markdown",
   "id": "49802788",
   "metadata": {},
   "source": [
    "## Regression Logistique"
   ]
  },
  {
   "cell_type": "markdown",
   "id": "85b98d0a",
   "metadata": {},
   "source": [
    "### BoW - TFIDF"
   ]
  },
  {
   "cell_type": "code",
   "execution_count": 24,
   "id": "dd185d2d",
   "metadata": {},
   "outputs": [
    {
     "name": "stderr",
     "output_type": "stream",
     "text": [
      "2023/07/09 21:57:50 INFO mlflow.tracking.fluent: Experiment with name 'Regression Logistique' does not exist. Creating a new experiment.\n",
      "C:\\Users\\aurel\\miniconda3\\envs\\tensorflow\\lib\\site-packages\\sklearn\\linear_model\\_logistic.py:460: ConvergenceWarning: lbfgs failed to converge (status=1):\n",
      "STOP: TOTAL NO. of ITERATIONS REACHED LIMIT.\n",
      "\n",
      "Increase the number of iterations (max_iter) or scale the data as shown in:\n",
      "    https://scikit-learn.org/stable/modules/preprocessing.html\n",
      "Please also refer to the documentation for alternative solver options:\n",
      "    https://scikit-learn.org/stable/modules/linear_model.html#logistic-regression\n",
      "  n_iter_i = _check_optimize_result(\n"
     ]
    },
    {
     "name": "stdout",
     "output_type": "stream",
     "text": [
      "              precision    recall  f1-score   support\n",
      "\n",
      "           0       0.80      0.78      0.79     75000\n",
      "           1       0.79      0.80      0.79     75000\n",
      "\n",
      "    accuracy                           0.79    150000\n",
      "   macro avg       0.79      0.79      0.79    150000\n",
      "weighted avg       0.79      0.79      0.79    150000\n",
      "\n",
      "Accuracy score : 0.7922133333333333\n",
      "Precision Score : 0.7850379773176569\n",
      "Recall Score : 0.8048\n",
      "F1 Score : 0.7947961655957022\n",
      "AUC : 0.8717412984888889\n",
      "Average-precision score :  0.8725936541059651 \n",
      "\n"
     ]
    },
    {
     "name": "stderr",
     "output_type": "stream",
     "text": [
      "C:\\Users\\aurel\\miniconda3\\envs\\tensorflow\\lib\\site-packages\\_distutils_hack\\__init__.py:33: UserWarning: Setuptools is replacing distutils.\n",
      "  warnings.warn(\"Setuptools is replacing distutils.\")\n",
      "Successfully registered model 'tf-idf & stem'.\n",
      "2023/07/09 22:12:01 INFO mlflow.tracking._model_registry.client: Waiting up to 300 seconds for model version to finish creation. Model name: tf-idf & stem, version 1\n"
     ]
    },
    {
     "name": "stdout",
     "output_type": "stream",
     "text": [
      "CPU times: total: 11min 51s\n",
      "Wall time: 14min 11s\n"
     ]
    },
    {
     "name": "stderr",
     "output_type": "stream",
     "text": [
      "Created version '1' of model 'tf-idf & stem'.\n"
     ]
    }
   ],
   "source": [
    "%%time\n",
    "mlflow.set_tracking_uri('file://' + os.path.abspath('mlruns'))\n",
    "experiment_name = \"Regression Logistique\"\n",
    "mlflow.set_experiment(experiment_name)\n",
    "with mlflow.start_run(run_name=\"TFIDF 500K sample\"):\n",
    "    params = {\"penalty\": \"l2\", \"C\": 1.0, \"random_state\": 0}\n",
    "    pipeline = Pipeline([\n",
    "        ('clean_text', SpacyTextCleaner(stem=True, rejoin=True)),\n",
    "        ('vect', TfidfVectorizer()),\n",
    "        ('clf', LogisticRegression(**params))\n",
    "    ])\n",
    "    X_train, X_valid, X_test, y_train, y_valid, y_test = train_valid_test_split(df_sample['text'] ,df_sample['target'])\n",
    "    pipeline.fit(X_train, y_train)\n",
    "    y_valid_pred = pipeline.predict(X_valid)\n",
    "    y_valid_proba = pipeline.predict_proba(X_valid)[:, 1]\n",
    "    accuracy, precision, recall, f1, score_auc, aucpr_score = calcul_metrics(y_valid, y_valid_pred, y_valid_proba, recover=True)\n",
    "    mlflow.log_param(\"preprocessing\", \"Stemming et TF-IDF\")\n",
    "    mlflow.log_params(params)\n",
    "    mlflow.log_metrics({\n",
    "    \"accuracy_score\": accuracy,\n",
    "    \"precision_score\": precision,\n",
    "    \"recall_score\": recall,\n",
    "    \"f1_score\": f1,\n",
    "    \"auc\": score_auc,\n",
    "    \"average_precision_score\":aucpr_score,\n",
    "    })\n",
    "    signature = infer_signature(X_valid, y_valid_pred)\n",
    "    mlflow.sklearn.log_model(\n",
    "        sk_model=pipeline.named_steps['clf'],\n",
    "        artifact_path=\"tf-idf & stem\",\n",
    "        signature=signature,\n",
    "        registered_model_name=\"tf-idf & stem\",\n",
    "    )"
   ]
  },
  {
   "cell_type": "code",
   "execution_count": 25,
   "id": "ce21c90d",
   "metadata": {},
   "outputs": [
    {
     "name": "stderr",
     "output_type": "stream",
     "text": [
      "C:\\Users\\aurel\\miniconda3\\envs\\tensorflow\\lib\\site-packages\\sklearn\\linear_model\\_logistic.py:460: ConvergenceWarning: lbfgs failed to converge (status=1):\n",
      "STOP: TOTAL NO. of ITERATIONS REACHED LIMIT.\n",
      "\n",
      "Increase the number of iterations (max_iter) or scale the data as shown in:\n",
      "    https://scikit-learn.org/stable/modules/preprocessing.html\n",
      "Please also refer to the documentation for alternative solver options:\n",
      "    https://scikit-learn.org/stable/modules/linear_model.html#logistic-regression\n",
      "  n_iter_i = _check_optimize_result(\n"
     ]
    },
    {
     "name": "stdout",
     "output_type": "stream",
     "text": [
      "              precision    recall  f1-score   support\n",
      "\n",
      "           0       0.80      0.78      0.79     75000\n",
      "           1       0.79      0.81      0.80     75000\n",
      "\n",
      "    accuracy                           0.80    150000\n",
      "   macro avg       0.80      0.80      0.80    150000\n",
      "weighted avg       0.80      0.80      0.80    150000\n",
      "\n",
      "Accuracy score : 0.79686\n",
      "Precision Score : 0.7898306408570797\n",
      "Recall Score : 0.8089866666666666\n",
      "F1 Score : 0.7992938960209196\n",
      "AUC : 0.8764124612444444\n",
      "Average-precision score :  0.8769417147693779 \n",
      "\n"
     ]
    },
    {
     "name": "stderr",
     "output_type": "stream",
     "text": [
      "Successfully registered model 'tf-idf & lem'.\n",
      "2023/07/09 22:23:05 INFO mlflow.tracking._model_registry.client: Waiting up to 300 seconds for model version to finish creation. Model name: tf-idf & lem, version 1\n"
     ]
    },
    {
     "name": "stdout",
     "output_type": "stream",
     "text": [
      "CPU times: total: 9min 29s\n",
      "Wall time: 11min 4s\n"
     ]
    },
    {
     "name": "stderr",
     "output_type": "stream",
     "text": [
      "Created version '1' of model 'tf-idf & lem'.\n"
     ]
    }
   ],
   "source": [
    "%%time\n",
    "with mlflow.start_run(run_name=\"TFIDF 500K sample\"):\n",
    "    pipeline.set_params(clean_text__stem=False, clean_text__lemmatize=True)\n",
    "    pipeline.fit(X_train, y_train)\n",
    "    y_valid_pred = pipeline.predict(X_valid)\n",
    "    y_valid_proba = pipeline.predict_proba(X_valid)[:, 1]\n",
    "    accuracy, precision, recall, f1, score_auc, aucpr_score = calcul_metrics(y_valid, y_valid_pred,y_valid_proba, recover=True)\n",
    "    mlflow.log_param(\"preprocessing\", \"Lemmatisation et TF-IDF\")\n",
    "    mlflow.log_params(params)\n",
    "    mlflow.log_metrics({\n",
    "    \"accuracy_score\": accuracy,\n",
    "    \"precision_score\": precision,\n",
    "    \"recall_score\": recall,\n",
    "    \"f1_score\": f1,\n",
    "    \"auc\": score_auc,\n",
    "    \"precision_recall_score\": aucpr_score,\n",
    "    })\n",
    "    signature = infer_signature(X_valid, y_valid_pred)\n",
    "    mlflow.sklearn.log_model(\n",
    "        sk_model=pipeline.named_steps['clf'],\n",
    "        artifact_path=\"tf-idf & lem\",\n",
    "        signature=signature,\n",
    "        registered_model_name=\"tf-idf & lem\",\n",
    "    )"
   ]
  },
  {
   "cell_type": "markdown",
   "id": "ced10a68",
   "metadata": {},
   "source": [
    "## Modèle simple avec Keras"
   ]
  },
  {
   "cell_type": "code",
   "execution_count": 12,
   "id": "544af302",
   "metadata": {},
   "outputs": [],
   "source": [
    "def prepare_keras_data(docs, nb_words, max_sequence_length):\n",
    "    words = [word for sentence in docs for word in sentence]\n",
    "    nb_words = len(set(words))\n",
    "    tokenizer = Tokenizer(num_words=nb_words, oov_token=\"<OOV>\")\n",
    "    tokenizer.fit_on_texts(docs)\n",
    "    encoded_docs = tokenizer.texts_to_sequences(docs)\n",
    "    padded_docs = pad_sequences(encoded_docs, int(max_sequence_length), padding='post')\n",
    "    return padded_docs, tokenizer"
   ]
  },
  {
   "cell_type": "code",
   "execution_count": 13,
   "id": "b8b62e05",
   "metadata": {},
   "outputs": [],
   "source": [
    "class KerasEncodingTransformer(BaseEstimator, TransformerMixin):\n",
    "    def __init__(self, nb_words, max_length):\n",
    "        self.nb_words = nb_words\n",
    "        self.max_length = max_length\n",
    "        self.tokenizer = Tokenizer(num_words=nb_words)\n",
    "        self.tokenizer_fitted = False\n",
    "    \n",
    "    def fit(self, X, y=None):\n",
    "        if not self.tokenizer_fitted:\n",
    "            self.tokenizer.fit_on_texts(X)\n",
    "            self.tokenizer_fitted = True\n",
    "        return self\n",
    "\n",
    "    def transform(self, X):\n",
    "        encoded_docs = self.tokenizer.texts_to_sequences(X)\n",
    "        padded_docs = pad_sequences(encoded_docs, maxlen=self.max_length)\n",
    "        return padded_docs\n",
    "    \n",
    "# class KerasEmbeddingTransformer(BaseEstimator, TransformerMixin):\n",
    "#     def __init__(self, nb_words, embed_dim, epochs, batch_size, max_length):\n",
    "#         self.nb_words = nb_words\n",
    "#         self.embed_dim = embed_dim\n",
    "#         self.model = None\n",
    "#         self.epochs = epochs\n",
    "#         self.batch_size = batch_size\n",
    "#         self.max_length = max_length\n",
    "    \n",
    "#     def fit(self, X, y=None):\n",
    "#         self.model = Sequential()\n",
    "#         self.model.add(Embedding(self.nb_words, self.embed_dim, input_length=self.max_length))\n",
    "#         self.model.add(Flatten())\n",
    "#         self.model.add(Dense(1, activation='sigmoid'))\n",
    "#         self.model.compile(optimizer='adam', loss='binary_crossentropy', metrics=['accuracy'])\n",
    "#         self.model.fit(X, y, epochs=self.epochs, batch_size=self.batch_size)\n",
    "#         return self\n",
    "    \n",
    "#     def transform(self, X):\n",
    "#         return self.model.predict(X)"
   ]
  },
  {
   "cell_type": "code",
   "execution_count": 14,
   "id": "78786431",
   "metadata": {},
   "outputs": [
    {
     "name": "stdout",
     "output_type": "stream",
     "text": [
      "nb tokens 19484114, nb tokens uniques 250052\n",
      "['sometimes', 'i', 'wish', 'that', 'i', 'could', 'change', 'time', 'to', 'save', 'the', 'ones', 'i', 'love', 'not', 'if', 'it', 'is', 'yours', 'ahahaha', 'jk', 'missss', 'you', 'probably', 'missed', 'out', 'on', 'presale', 'hopefully', 'ney']\n"
     ]
    }
   ],
   "source": [
    "words = [word for sentence in df_sample['clean_text_lem'] for word in sentence]\n",
    "nb_words = len(set(words))\n",
    "display_tokens_info(words)"
   ]
  },
  {
   "cell_type": "code",
   "execution_count": 15,
   "id": "fce5b0f8",
   "metadata": {},
   "outputs": [
    {
     "data": {
      "text/plain": [
       "40"
      ]
     },
     "execution_count": 15,
     "metadata": {},
     "output_type": "execute_result"
    }
   ],
   "source": [
    "max_len = max(len(sentence) for sentence in df_sample.clean_text_lem)\n",
    "max_len"
   ]
  },
  {
   "cell_type": "markdown",
   "id": "80374113",
   "metadata": {},
   "source": [
    "## Modèles Keras "
   ]
  },
  {
   "cell_type": "code",
   "execution_count": 16,
   "id": "8271c439",
   "metadata": {},
   "outputs": [],
   "source": [
    "def create_embedding(model):\n",
    "    vocab_size = len(model.key_to_index) + 1\n",
    "    embedding_dim = model.vector_size  \n",
    "\n",
    "    embedding_matrix = np.zeros((vocab_size, embedding_dim))\n",
    "\n",
    "    for word, i in model.key_to_index.items():\n",
    "        if word in model:\n",
    "            embedding_matrix[i] = model[word]\n",
    "    return vocab_size, embedding_dim, embedding_matrix"
   ]
  },
  {
   "cell_type": "code",
   "execution_count": 12,
   "id": "951c916e",
   "metadata": {},
   "outputs": [],
   "source": [
    "def plot_hist(hist, model_name):\n",
    "    sns.set()\n",
    "    plt.figure(figsize=(12, 6))\n",
    "    plt.subplot(1, 2, 1)\n",
    "    acc = hist.history['accuracy']\n",
    "    val_acc = hist.history['val_accuracy']\n",
    "    epochs = range(1, len(acc) + 1)\n",
    "    plt.plot(epochs, acc, '-', label='Training accuracy')\n",
    "    plt.plot(epochs, val_acc, ':', label='Validation accuracy')\n",
    "    plt.title('Training and Validation Accuracy')\n",
    "    plt.xlabel('Epoch')\n",
    "    plt.ylabel('Accuracy')\n",
    "    plt.legend(loc='upper left')\n",
    "    \n",
    "    plt.subplot(1, 2, 2)\n",
    "    loss = hist.history['loss']\n",
    "    val_loss = hist.history['val_loss']\n",
    "    epochs = range(1, len(acc) + 1)\n",
    "    plt.plot(epochs, loss, '-', label='Training loss')\n",
    "    plt.plot(epochs, val_loss, ':', label='Validation loss')\n",
    "    plt.title('Training and Validation loss')\n",
    "    plt.xlabel('Epoch')\n",
    "    plt.ylabel('Loss')\n",
    "    plt.legend(loc='upper left')\n",
    "    plt.savefig(f'{model_name}_training_accuracy_loss.png')\n",
    "    plt.show()"
   ]
  },
  {
   "cell_type": "markdown",
   "id": "9064f331",
   "metadata": {},
   "source": [
    "### Keras simple avec Glove"
   ]
  },
  {
   "cell_type": "markdown",
   "id": "eb10de74",
   "metadata": {},
   "source": [
    "#### Glove"
   ]
  },
  {
   "cell_type": "code",
   "execution_count": 18,
   "id": "c9b8b604",
   "metadata": {
    "scrolled": true
   },
   "outputs": [],
   "source": [
    "glove_model = api.load(\"glove-twitter-100\")\n",
    "vocab_size, embedding_dim, embedding_matrix = create_embedding(glove_model)"
   ]
  },
  {
   "cell_type": "code",
   "execution_count": 33,
   "id": "862a60a4",
   "metadata": {
    "scrolled": false
   },
   "outputs": [
    {
     "name": "stderr",
     "output_type": "stream",
     "text": [
      "2023/07/09 22:24:08 INFO mlflow.tracking.fluent: Experiment with name 'Keras simple' does not exist. Creating a new experiment.\n"
     ]
    },
    {
     "name": "stdout",
     "output_type": "stream",
     "text": [
      "Model: \"sequential\"\n",
      "_________________________________________________________________\n",
      " Layer (type)                Output Shape              Param #   \n",
      "=================================================================\n",
      " embedding (Embedding)       (None, None, 100)         119351500 \n",
      "                                                                 \n",
      " spatial_dropout1d (SpatialD  (None, None, 100)        0         \n",
      " ropout1D)                                                       \n",
      "                                                                 \n",
      " conv1d (Conv1D)             (None, None, 128)         64128     \n",
      "                                                                 \n",
      " max_pooling1d (MaxPooling1D  (None, None, 128)        0         \n",
      " )                                                               \n",
      "                                                                 \n",
      " global_max_pooling1d (Globa  (None, 128)              0         \n",
      " lMaxPooling1D)                                                  \n",
      "                                                                 \n",
      " dense (Dense)               (None, 16)                2064      \n",
      "                                                                 \n",
      " dropout (Dropout)           (None, 16)                0         \n",
      "                                                                 \n",
      " dense_1 (Dense)             (None, 1)                 17        \n",
      "                                                                 \n",
      "=================================================================\n",
      "Total params: 119,417,709\n",
      "Trainable params: 119,417,709\n",
      "Non-trainable params: 0\n",
      "_________________________________________________________________\n",
      "None\n",
      "Epoch 1/5\n",
      "4688/4688 [==============================] - 194s 41ms/step - loss: 0.5128 - accuracy: 0.7482 - val_loss: 0.4224 - val_accuracy: 0.8033\n",
      "Epoch 2/5\n",
      "4688/4688 [==============================] - 191s 41ms/step - loss: 0.4424 - accuracy: 0.8023 - val_loss: 0.4055 - val_accuracy: 0.8145\n",
      "Epoch 3/5\n",
      "4688/4688 [==============================] - 191s 41ms/step - loss: 0.4193 - accuracy: 0.8155 - val_loss: 0.3971 - val_accuracy: 0.8163\n",
      "Epoch 4/5\n",
      "4688/4688 [==============================] - 192s 41ms/step - loss: 0.4013 - accuracy: 0.8251 - val_loss: 0.3946 - val_accuracy: 0.8209\n",
      "Epoch 5/5\n",
      "4688/4688 [==============================] - 191s 41ms/step - loss: 0.3846 - accuracy: 0.8332 - val_loss: 0.3934 - val_accuracy: 0.8220\n",
      "1/1 [==============================] - 0s 110ms/step\n",
      "4688/4688 [==============================] - 4s 825us/step\n",
      "Accuracy on test data: 82.08%\n",
      "              precision    recall  f1-score   support\n",
      "\n",
      "           0       0.80      0.85      0.83     75000\n",
      "           1       0.84      0.79      0.82     75000\n",
      "\n",
      "    accuracy                           0.82    150000\n",
      "   macro avg       0.82      0.82      0.82    150000\n",
      "weighted avg       0.82      0.82      0.82    150000\n",
      "\n",
      "Accuracy score : 0.8208066666666667\n",
      "Precision Score : 0.8389996477632969\n",
      "Recall Score : 0.7939733333333333\n",
      "F1 Score : 0.8158657304332934\n",
      "AUC : 0.9026749541333333\n",
      "Average-precision score :  0.9036295715482476 \n",
      "\n"
     ]
    },
    {
     "data": {
      "image/png": "[encoded data removed]",
      "text/plain": [
       "<Figure size 1200x600 with 2 Axes>"
      ]
     },
     "metadata": {},
     "output_type": "display_data"
    },
    {
     "name": "stderr",
     "output_type": "stream",
     "text": [
      "WARNING:absl:Found untraced functions such as _jit_compiled_convolution_op while saving (showing 1 of 1). These functions will not be directly callable after loading.\n"
     ]
    },
    {
     "name": "stdout",
     "output_type": "stream",
     "text": [
      "INFO:tensorflow:Assets written to: C:\\Users\\aurel\\AppData\\Local\\Temp\\tmp_5mokdeo\\model\\data\\model\\assets\n"
     ]
    },
    {
     "name": "stderr",
     "output_type": "stream",
     "text": [
      "INFO:tensorflow:Assets written to: C:\\Users\\aurel\\AppData\\Local\\Temp\\tmp_5mokdeo\\model\\data\\model\\assets\n",
      "Successfully registered model 'Keras Glove'.\n",
      "2023/07/09 22:51:44 INFO mlflow.tracking._model_registry.client: Waiting up to 300 seconds for model version to finish creation. Model name: Keras Glove, version 1\n"
     ]
    },
    {
     "name": "stdout",
     "output_type": "stream",
     "text": [
      "CPU times: total: 17min 26s\n",
      "Wall time: 27min 35s\n"
     ]
    },
    {
     "name": "stderr",
     "output_type": "stream",
     "text": [
      "Created version '1' of model 'Keras Glove'.\n"
     ]
    }
   ],
   "source": [
    "%%time\n",
    "experiment_name = \"Keras simple\"\n",
    "mlflow.set_experiment(experiment_name)\n",
    "with mlflow.start_run(run_name=\"Keras Glove\"):\n",
    "    \n",
    "    batch_size = 256\n",
    "    \n",
    "    pipeline = Pipeline([\n",
    "        ('clean_text', SpacyTextCleaner(lemmatize=True)),\n",
    "    ])\n",
    "    \n",
    "    df_sample_clean = pipeline.transform(df_sample['text'])\n",
    "    words = [word for sentence in df_sample_clean for word in sentence]\n",
    "    nb_words = len(set(words))\n",
    "    X, _ = prepare_keras_data(df_sample_clean, nb_words, max_len)\n",
    "    X_train, X_valid, X_test, y_train, y_valid, y_test = train_valid_test_split(X, df_sample['target']) \n",
    "    \n",
    "    \n",
    "    model = Sequential()\n",
    "    model.add(Embedding(\n",
    "        input_dim=vocab_size,\n",
    "        output_dim=embedding_dim,\n",
    "        weights=[embedding_matrix]))\n",
    "    model.add(SpatialDropout1D(0.3))\n",
    "    model.add(Conv1D(128, 5, activation='relu')) \n",
    "    model.add(MaxPooling1D(pool_size=4))\n",
    "    model.add(GlobalMaxPooling1D())\n",
    "    model.add(Dense(16, activation=\"relu\"))\n",
    "    model.add(Dropout(0.5))\n",
    "    model.add(Dense(1, activation='sigmoid'))\n",
    "    model.compile(loss='binary_crossentropy',optimizer='adam', metrics=['accuracy'])\n",
    "    print(model.summary())\n",
    "    early_stopping = EarlyStopping(monitor='val_accuracy', patience=1)\n",
    "    \n",
    "    hist = model.fit(\n",
    "        X_train, \n",
    "        y_train, \n",
    "        epochs=5, \n",
    "        batch_size=batch_size, \n",
    "        validation_data=(X_valid, y_valid), \n",
    "        callbacks=[early_stopping], \n",
    "        verbose=1\n",
    "    )\n",
    "\n",
    "    \n",
    "    input_example = X_valid[:5]\n",
    "    output_example = model.predict(input_example)\n",
    "    signature = infer_signature(input_example, output_example)\n",
    "    \n",
    "    y_pred_prob = model.predict(X_test)\n",
    "    y_pred_bin = (y_pred_prob > 0.5).astype(int)\n",
    "\n",
    "   \n",
    "    scores = model.evaluate(X_test, y_test, verbose=0)\n",
    "    print(\"Accuracy on test data: %.2f%%\" % (scores[1] * 100))\n",
    "    \n",
    "    accuracy, precision, recall, f1, score_auc, aucpr_score = calcul_metrics(y_test, y_pred_bin, y_pred_prob, recover=True)\n",
    "    \n",
    "    mlflow.log_metrics({\n",
    "    \"accuracy_score\": scores[1] * 100,\n",
    "    \"precision_score\": precision,\n",
    "    \"recall_score\": recall,\n",
    "    \"f1_score\": f1,\n",
    "    \"auc\": score_auc,\n",
    "    \"precision_recall_score\": aucpr_score,\n",
    "    })\n",
    "    \n",
    "    model_name = \"Keras_simple_Glove\"\n",
    "    plot_hist(hist, model_name)\n",
    "    mlflow.log_artifact(f'{model_name}_training_accuracy_loss.png')\n",
    "    mlflow.keras.log_model(\n",
    "    model,\n",
    "    artifact_path=\"Keras Glove\",\n",
    "    registered_model_name=\"Keras Glove\",\n",
    "    signature = signature\n",
    ")"
   ]
  },
  {
   "cell_type": "code",
   "execution_count": 19,
   "id": "090ff6aa",
   "metadata": {},
   "outputs": [
    {
     "data": {
      "text/plain": [
       "9644"
      ]
     },
     "execution_count": 19,
     "metadata": {},
     "output_type": "execute_result"
    }
   ],
   "source": [
    "cuda.select_device(0)\n",
    "cuda.close()\n",
    "gc.collect()"
   ]
  },
  {
   "cell_type": "markdown",
   "id": "94bab25c",
   "metadata": {},
   "source": [
    "### Keras simple avec Fasttext"
   ]
  },
  {
   "cell_type": "markdown",
   "id": "068b7296",
   "metadata": {},
   "source": [
    "#### Fasttext"
   ]
  },
  {
   "cell_type": "code",
   "execution_count": 20,
   "id": "bc5d43ad",
   "metadata": {
    "scrolled": true
   },
   "outputs": [
    {
     "name": "stderr",
     "output_type": "stream",
     "text": [
      "Warning : `load_model` does not return WordVectorModel or SupervisedModel any more, but a `FastText` object which is very similar.\n"
     ]
    },
    {
     "name": "stdout",
     "output_type": "stream",
     "text": [
      "100\n"
     ]
    }
   ],
   "source": [
    "fasttext.util.download_model('en', if_exists='ignore')  \n",
    "ft_model = fasttext.load_model('cc.en.300.bin')\n",
    "fasttext.util.reduce_model(ft_model, 100)\n",
    "print(ft_model.get_dimension())"
   ]
  },
  {
   "cell_type": "code",
   "execution_count": 21,
   "id": "65dbdcc3",
   "metadata": {},
   "outputs": [],
   "source": [
    "def create_embedding_matrix(ft_model):\n",
    "    vocab_size = len(ft_model.get_words())  \n",
    "    embedding_dim = ft_model.get_dimension()  \n",
    "    embedding_matrix = np.zeros((vocab_size, embedding_dim))\n",
    "\n",
    "    for i, word in enumerate(ft_model.get_words()):\n",
    "        embedding_matrix[i] = ft_model.get_word_vector(word)\n",
    "\n",
    "    return vocab_size, embedding_dim, embedding_matrix\n",
    "vocab_size, embedding_dim, embedding_matrix = create_embedding_matrix(ft_model)"
   ]
  },
  {
   "cell_type": "code",
   "execution_count": 22,
   "id": "192078a7",
   "metadata": {
    "scrolled": false
   },
   "outputs": [
    {
     "name": "stdout",
     "output_type": "stream",
     "text": [
      "Model: \"sequential\"\n",
      "_________________________________________________________________\n",
      " Layer (type)                Output Shape              Param #   \n",
      "=================================================================\n",
      " embedding (Embedding)       (None, None, 100)         200000000 \n",
      "                                                                 \n",
      " spatial_dropout1d (SpatialD  (None, None, 100)        0         \n",
      " ropout1D)                                                       \n",
      "                                                                 \n",
      " conv1d (Conv1D)             (None, None, 128)         64128     \n",
      "                                                                 \n",
      " max_pooling1d (MaxPooling1D  (None, None, 128)        0         \n",
      " )                                                               \n",
      "                                                                 \n",
      " global_max_pooling1d (Globa  (None, 128)              0         \n",
      " lMaxPooling1D)                                                  \n",
      "                                                                 \n",
      " dense (Dense)               (None, 16)                2064      \n",
      "                                                                 \n",
      " dropout (Dropout)           (None, 16)                0         \n",
      "                                                                 \n",
      " dense_1 (Dense)             (None, 1)                 17        \n",
      "                                                                 \n",
      "=================================================================\n",
      "Total params: 200,066,209\n",
      "Trainable params: 200,066,209\n",
      "Non-trainable params: 0\n",
      "_________________________________________________________________\n",
      "None\n",
      "Epoch 1/5\n",
      "9375/9375 [==============================] - 621s 66ms/step - loss: 0.4584 - accuracy: 0.7909 - val_loss: 0.4000 - val_accuracy: 0.8184\n",
      "Epoch 2/5\n",
      "9375/9375 [==============================] - 625s 67ms/step - loss: 0.4018 - accuracy: 0.8260 - val_loss: 0.3895 - val_accuracy: 0.8227\n",
      "Epoch 3/5\n",
      "9375/9375 [==============================] - 623s 66ms/step - loss: 0.3713 - accuracy: 0.8421 - val_loss: 0.3939 - val_accuracy: 0.8248\n",
      "Epoch 4/5\n",
      "9375/9375 [==============================] - 605s 65ms/step - loss: 0.3451 - accuracy: 0.8551 - val_loss: 0.3991 - val_accuracy: 0.8223\n",
      "1/1 [==============================] - 0s 116ms/step\n",
      "4688/4688 [==============================] - 4s 800us/step\n",
      "Accuracy on test data: 82.10%\n",
      "              precision    recall  f1-score   support\n",
      "\n",
      "           0       0.80      0.86      0.83     75000\n",
      "           1       0.85      0.79      0.81     75000\n",
      "\n",
      "    accuracy                           0.82    150000\n",
      "   macro avg       0.82      0.82      0.82    150000\n",
      "weighted avg       0.82      0.82      0.82    150000\n",
      "\n",
      "Accuracy score : 0.8210266666666667\n",
      "Precision Score : 0.8459537904477269\n",
      "Recall Score : 0.785\n",
      "F1 Score : 0.8143378793327616\n",
      "AUC : 0.9035297006222223\n",
      "Average-precision score :  0.9047928577291328 \n",
      "\n"
     ]
    },
    {
     "data": {
      "image/png": "[encoded data removed]",
      "text/plain": [
       "<Figure size 1200x600 with 2 Axes>"
      ]
     },
     "metadata": {},
     "output_type": "display_data"
    },
    {
     "name": "stderr",
     "output_type": "stream",
     "text": [
      "WARNING:absl:Found untraced functions such as _jit_compiled_convolution_op while saving (showing 1 of 1). These functions will not be directly callable after loading.\n"
     ]
    },
    {
     "name": "stdout",
     "output_type": "stream",
     "text": [
      "INFO:tensorflow:Assets written to: C:\\Users\\aurel\\AppData\\Local\\Temp\\tmpw_f0incj\\model\\data\\model\\assets\n"
     ]
    },
    {
     "name": "stderr",
     "output_type": "stream",
     "text": [
      "INFO:tensorflow:Assets written to: C:\\Users\\aurel\\AppData\\Local\\Temp\\tmpw_f0incj\\model\\data\\model\\assets\n",
      "C:\\Users\\aurel\\miniconda3\\envs\\tensorflow\\lib\\site-packages\\_distutils_hack\\__init__.py:33: UserWarning: Setuptools is replacing distutils.\n",
      "  warnings.warn(\"Setuptools is replacing distutils.\")\n",
      "Registered model 'Keras Fasttext' already exists. Creating a new version of this model...\n",
      "2023/07/10 01:59:54 INFO mlflow.tracking._model_registry.client: Waiting up to 300 seconds for model version to finish creation. Model name: Keras Fasttext, version 2\n",
      "Created version '2' of model 'Keras Fasttext'.\n"
     ]
    },
    {
     "name": "stdout",
     "output_type": "stream",
     "text": [
      "CPU times: total: 33min 53s\n",
      "Wall time: 53min 10s\n"
     ]
    }
   ],
   "source": [
    "%%time\n",
    "experiment_name = \"Keras simple\"\n",
    "mlflow.set_experiment(experiment_name)\n",
    "with mlflow.start_run(run_name=\"Keras Fasttext\"):\n",
    "    \n",
    "    batch_size = 128\n",
    "    \n",
    "    pipeline = Pipeline([\n",
    "        ('clean_text', SpacyTextCleaner(lemmatize=True)),\n",
    "    ])\n",
    "    \n",
    "    df_sample_clean = pipeline.transform(df_sample['text'])\n",
    "    words = [word for sentence in df_sample_clean for word in sentence]\n",
    "    nb_words = len(set(words))\n",
    "    X, _ = prepare_keras_data(df_sample_clean, nb_words, max_len)\n",
    "    X_train, X_valid, X_test, y_train, y_valid, y_test = train_valid_test_split(X, df_sample['target']) \n",
    "    \n",
    "    \n",
    "    model = Sequential()\n",
    "    model.add(Embedding(\n",
    "        input_dim=vocab_size,\n",
    "        output_dim=embedding_dim,\n",
    "        weights=[embedding_matrix]))\n",
    "    model.add(SpatialDropout1D(0.3))\n",
    "    model.add(Conv1D(128, 5, activation='relu')) \n",
    "    model.add(MaxPooling1D(pool_size=4))\n",
    "    model.add(GlobalMaxPooling1D())\n",
    "    model.add(Dense(16, activation=\"relu\"))\n",
    "    model.add(Dropout(0.5))\n",
    "    model.add(Dense(1, activation='sigmoid'))\n",
    "    model.compile(loss='binary_crossentropy',optimizer='adam', metrics=['accuracy'])\n",
    "    print(model.summary())\n",
    "    early_stopping = EarlyStopping(monitor='val_accuracy', patience=1)\n",
    "    \n",
    "    hist = model.fit(\n",
    "        X_train, \n",
    "        y_train, \n",
    "        epochs=5, \n",
    "        batch_size=batch_size, \n",
    "        validation_data=(X_valid, y_valid), \n",
    "        callbacks=[early_stopping], \n",
    "        verbose=1\n",
    "    )\n",
    "\n",
    "    \n",
    "    input_example = X_valid[:5]\n",
    "    output_example = model.predict(input_example)\n",
    "    signature = infer_signature(input_example, output_example)\n",
    "    \n",
    "    y_pred_prob = model.predict(X_test)\n",
    "    y_pred_bin = (y_pred_prob > 0.5).astype(int)\n",
    "   \n",
    "    scores = model.evaluate(X_test, y_test, verbose=0)\n",
    "    print(\"Accuracy on test data: %.2f%%\" % (scores[1] * 100))\n",
    "    \n",
    "    accuracy, precision, recall, f1, score_auc, aucpr_score = calcul_metrics(y_test, y_pred_bin, y_pred_prob, recover=True)\n",
    "    \n",
    "    mlflow.log_metrics({\n",
    "    \"accuracy_score\": scores[1] * 100,\n",
    "    \"precision_score\": precision,\n",
    "    \"recall_score\": recall,\n",
    "    \"f1_score\": f1,\n",
    "    \"auc\": score_auc,\n",
    "    \"precision_recall_score\": aucpr_score,\n",
    "    })\n",
    "    \n",
    "    model_name = \"Keras_simple_Fasttext\"\n",
    "    plot_hist(hist, model_name)\n",
    "    mlflow.log_artifact(f'{model_name}_training_accuracy_loss.png')\n",
    "    mlflow.keras.log_model(\n",
    "    model,\n",
    "    artifact_path=\"Keras Fasttext\",\n",
    "    registered_model_name=\"Keras Fasttext\",\n",
    "    signature = signature\n",
    ")"
   ]
  },
  {
   "cell_type": "markdown",
   "id": "24682dad",
   "metadata": {},
   "source": [
    "## Modèle Keras avec Embedding pré entrainé Glove + couche LSTM (à déployer)"
   ]
  },
  {
   "cell_type": "code",
   "execution_count": 19,
   "id": "28b2b99f",
   "metadata": {},
   "outputs": [
    {
     "data": {
      "text/plain": [
       "9635"
      ]
     },
     "execution_count": 19,
     "metadata": {},
     "output_type": "execute_result"
    }
   ],
   "source": [
    "cuda.select_device(0)\n",
    "cuda.close()\n",
    "gc.collect()"
   ]
  },
  {
   "cell_type": "code",
   "execution_count": 25,
   "id": "88b73d42",
   "metadata": {},
   "outputs": [],
   "source": [
    "vocab_size, embedding_dim, embedding_matrix = create_embedding(glove_model)"
   ]
  },
  {
   "cell_type": "code",
   "execution_count": 20,
   "id": "0855b2ed",
   "metadata": {
    "scrolled": false
   },
   "outputs": [
    {
     "name": "stdout",
     "output_type": "stream",
     "text": [
      "WARNING:tensorflow:Layer lstm will not use cuDNN kernels since it doesn't meet the criteria. It will use a generic GPU kernel as fallback when running on GPU.\n",
      "Model: \"sequential\"\n",
      "_________________________________________________________________\n",
      " Layer (type)                Output Shape              Param #   \n",
      "=================================================================\n",
      " embedding (Embedding)       (None, None, 100)         119351500 \n",
      "                                                                 \n",
      " spatial_dropout1d (SpatialD  (None, None, 100)        0         \n",
      " ropout1D)                                                       \n",
      "                                                                 \n",
      " lstm (LSTM)                 (None, 200)               240800    \n",
      "                                                                 \n",
      " dense (Dense)               (None, 1)                 201       \n",
      "                                                                 \n",
      "=================================================================\n",
      "Total params: 119,592,501\n",
      "Trainable params: 119,592,501\n",
      "Non-trainable params: 0\n",
      "_________________________________________________________________\n",
      "None\n",
      "Epoch 1/5\n",
      "9375/9375 [==============================] - 1109s 118ms/step - loss: 0.4719 - accuracy: 0.7647 - val_loss: 0.4103 - val_accuracy: 0.8116\n",
      "Epoch 2/5\n",
      "9375/9375 [==============================] - 1118s 119ms/step - loss: 0.4009 - accuracy: 0.8178 - val_loss: 0.3961 - val_accuracy: 0.8212\n",
      "Epoch 3/5\n",
      "9375/9375 [==============================] - 1090s 116ms/step - loss: 0.3794 - accuracy: 0.8301 - val_loss: 0.3885 - val_accuracy: 0.8254\n",
      "Epoch 4/5\n",
      "9375/9375 [==============================] - 1135s 121ms/step - loss: 0.3632 - accuracy: 0.8392 - val_loss: 0.3886 - val_accuracy: 0.8252\n",
      "4688/4688 [==============================] - 86s 18ms/step\n",
      "Accuracy on test data: 82.46%\n",
      "              precision    recall  f1-score   support\n",
      "\n",
      "           0       0.83      0.81      0.82     75000\n",
      "           1       0.82      0.84      0.83     75000\n",
      "\n",
      "    accuracy                           0.82    150000\n",
      "   macro avg       0.82      0.82      0.82    150000\n",
      "weighted avg       0.82      0.82      0.82    150000\n",
      "\n",
      "Accuracy score : 0.82464\n",
      "Precision Score : 0.8159123936059788\n",
      "Recall Score : 0.8384533333333334\n",
      "F1 Score : 0.8270293019096218\n",
      "AUC : 0.9063934949333333\n",
      "Average-precision score :  0.9075118325658109 \n",
      "\n"
     ]
    },
    {
     "data": {
      "image/png": "[encoded data removed]",
      "text/plain": [
       "<Figure size 1200x600 with 2 Axes>"
      ]
     },
     "metadata": {},
     "output_type": "display_data"
    },
    {
     "name": "stderr",
     "output_type": "stream",
     "text": [
      "2023/07/10 22:02:06 WARNING mlflow.tensorflow: You are saving a TensorFlow Core model or Keras model without a signature. Inference with mlflow.pyfunc.spark_udf() will not work unless the model's pyfunc representation accepts pandas DataFrames as inference inputs.\n"
     ]
    },
    {
     "name": "stdout",
     "output_type": "stream",
     "text": [
      "INFO:tensorflow:Assets written to: C:\\Users\\aurel\\AppData\\Local\\Temp\\tmpze6b48y3\\model\\data\\model\\assets\n"
     ]
    },
    {
     "name": "stderr",
     "output_type": "stream",
     "text": [
      "C:\\Users\\aurel\\miniconda3\\envs\\tensorflow\\lib\\site-packages\\_distutils_hack\\__init__.py:33: UserWarning: Setuptools is replacing distutils.\n",
      "  warnings.warn(\"Setuptools is replacing distutils.\")\n",
      "Successfully registered model 'LSTM-Glove'.\n",
      "2023/07/10 22:02:23 INFO mlflow.tracking._model_registry.client: Waiting up to 300 seconds for model version to finish creation. Model name: LSTM-Glove, version 1\n"
     ]
    },
    {
     "name": "stdout",
     "output_type": "stream",
     "text": [
      "CPU times: total: 37min 25s\n",
      "Wall time: 1h 28min 47s\n"
     ]
    },
    {
     "name": "stderr",
     "output_type": "stream",
     "text": [
      "Created version '1' of model 'LSTM-Glove'.\n"
     ]
    }
   ],
   "source": [
    "%%time\n",
    "experiment_name = \"Keras LSTM\"\n",
    "mlflow.set_experiment(experiment_name)\n",
    "with mlflow.start_run(run_name=\"LSTM-Glove\"):\n",
    "    \n",
    "    batch_size = 128\n",
    "    lstm_out = 200\n",
    "    \n",
    "    pipeline = Pipeline([\n",
    "        ('clean_text', SpacyTextCleaner(lemmatize=True)),\n",
    "    ])\n",
    "    \n",
    "    df_sample_clean = pipeline.transform(df_sample['text'])\n",
    "    words = [word for sentence in df_sample_clean for word in sentence]\n",
    "    nb_words = len(set(words))\n",
    "    X, tokenizer = prepare_keras_data(df_sample_clean, nb_words, max_len)\n",
    "    X_train, X_valid, X_test, y_train, y_valid, y_test = train_valid_test_split(X, df_sample['target']) \n",
    "    \n",
    "    \n",
    "    model = Sequential()\n",
    "    model.add(Embedding(\n",
    "        input_dim=vocab_size,\n",
    "        output_dim=embedding_dim,\n",
    "        weights=[embedding_matrix]))\n",
    "    model.add(SpatialDropout1D(0.3))\n",
    "    model.add(LSTM(lstm_out, recurrent_dropout=0.3, dropout=0.3))\n",
    "    model.add(Dense(1, activation='sigmoid'))\n",
    "    model.compile(loss='binary_crossentropy',optimizer='adam', metrics=['accuracy'])\n",
    "    print(model.summary())\n",
    "    early_stopping = EarlyStopping(monitor='val_accuracy', patience=1)\n",
    "    \n",
    "    hist = model.fit(\n",
    "        X_train, \n",
    "        y_train, \n",
    "        epochs=5, \n",
    "        batch_size=batch_size, \n",
    "        validation_data=(X_valid, y_valid), \n",
    "        callbacks=[early_stopping], \n",
    "        verbose=1\n",
    "    )\n",
    "\n",
    "    \n",
    "#     input_example = X_valid[:5]\n",
    "#     output_example = model.predict(input_example)\n",
    "#     signature = infer_signature(input_example, output_example)\n",
    "\n",
    "    y_pred_prob = model.predict(X_test)\n",
    "    y_pred_bin = (y_pred_prob > 0.5).astype(int)\n",
    "   \n",
    "    scores = model.evaluate(X_test, y_test, verbose=0)\n",
    "    print(\"Accuracy on test data: %.2f%%\" % (scores[1] * 100))\n",
    "    \n",
    "    accuracy, precision, recall, f1, score_auc, aucpr_score = calcul_metrics(y_test, y_pred_bin, y_pred_prob, recover=True)\n",
    "    \n",
    "    mlflow.log_metrics({\n",
    "    \"accuracy_score\": scores[1] * 100,\n",
    "    \"precision_score\": precision,\n",
    "    \"recall_score\": recall,\n",
    "    \"f1_score\": f1,\n",
    "    \"auc\": score_auc,\n",
    "    \"precision_recall_score\": aucpr_score,\n",
    "    })\n",
    "    \n",
    "    model_name = \"LSTM-Glove\"\n",
    "    plot_hist(hist, model_name)\n",
    "    mlflow.log_artifact(f'{model_name}_training_accuracy_loss.png')\n",
    "    \n",
    "    mlflow.keras.log_model(\n",
    "    model,\n",
    "    artifact_path=\"LSTM-Glove\",\n",
    "    registered_model_name=\"LSTM-Glove\",\n",
    "#     signature = signature\n",
    ")"
   ]
  },
  {
   "cell_type": "markdown",
   "id": "44239c0a",
   "metadata": {},
   "source": [
    "#### Sauvegarde du modèle et du Tokenizer"
   ]
  },
  {
   "cell_type": "code",
   "execution_count": 21,
   "id": "7952fa90",
   "metadata": {},
   "outputs": [],
   "source": [
    "import pickle\n",
    "with open('tokenizer.pickle', 'wb') as handle:\n",
    "        pickle.dump(tokenizer, handle, protocol=pickle.HIGHEST_PROTOCOL)\n",
    "model.save('LSTM_model.h5')"
   ]
  },
  {
   "cell_type": "markdown",
   "id": "0dd80d77",
   "metadata": {},
   "source": [
    "### GridSearch/ Random Search pour optimisation ?"
   ]
  },
  {
   "cell_type": "code",
   "execution_count": null,
   "id": "2e5bec3b",
   "metadata": {},
   "outputs": [],
   "source": [
    "# def create_model(learning_rate=0.01, batch_size=64):\n",
    "#     model = Sequential()\n",
    "#     model.add(Embedding(input_dim=vocab_size, output_dim=embedding_dim, weights=[embedding_matrix]))\n",
    "#     model.add(SpatialDropout1D(0.3))\n",
    "#     model.add(LSTM(lstm_out, recurrent_dropout=0.3, dropout=0.3))\n",
    "#     model.add(Dense(1, activation='sigmoid'))\n",
    "#     optimizer = Adam(lr=learning_rate)\n",
    "#     model.compile(loss='binary_crossentropy', optimizer=optimizer, metrics=['accuracy'])\n",
    "    \n",
    "#     return model\n",
    "\n",
    "# model = KerasClassifier(build_fn=create_model, verbose=0)\n",
    "\n",
    "\n",
    "# param_grid = {\n",
    "#     'learning_rate': [0.01, 0.1, 0.2],\n",
    "#     'batch_size': [32, 64, 128],\n",
    "#     'epochs': [2, 4, 6]\n",
    "# }\n",
    "\n",
    "# random_search = RandomizedSearchCV(estimator=model, param_distributions=param_grid, cv=3)\n",
    "# random_search_result = random_search.fit(X_train, y_train)\n",
    "\n",
    "# print(\"Best: %f using %s\" % (random_search_result.best_score_, random_search_result.best_params_))"
   ]
  },
  {
   "cell_type": "markdown",
   "id": "6b57bf23",
   "metadata": {},
   "source": [
    "## BERT - Bidirectional Encoder Representations from Transformers"
   ]
  },
  {
   "cell_type": "code",
   "execution_count": 34,
   "id": "0a836bea",
   "metadata": {},
   "outputs": [
    {
     "data": {
      "text/plain": [
       "14"
      ]
     },
     "execution_count": 34,
     "metadata": {},
     "output_type": "execute_result"
    }
   ],
   "source": [
    "cuda.select_device(0)\n",
    "cuda.close()\n",
    "gc.collect()"
   ]
  },
  {
   "cell_type": "code",
   "execution_count": 13,
   "id": "d23d75b6",
   "metadata": {},
   "outputs": [
    {
     "name": "stderr",
     "output_type": "stream",
     "text": [
      "Some weights of the PyTorch model were not used when initializing the TF 2.0 model TFBertModel: ['cls.predictions.transform.LayerNorm.bias', 'cls.predictions.transform.dense.bias', 'cls.predictions.transform.LayerNorm.weight', 'cls.seq_relationship.bias', 'cls.predictions.transform.dense.weight', 'cls.seq_relationship.weight', 'cls.predictions.bias']\n",
      "- This IS expected if you are initializing TFBertModel from a PyTorch model trained on another task or with another architecture (e.g. initializing a TFBertForSequenceClassification model from a BertForPreTraining model).\n",
      "- This IS NOT expected if you are initializing TFBertModel from a PyTorch model that you expect to be exactly identical (e.g. initializing a TFBertForSequenceClassification model from a BertForSequenceClassification model).\n",
      "All the weights of TFBertModel were initialized from the PyTorch model.\n",
      "If your task is similar to the task the model of the checkpoint was trained on, you can already use TFBertModel for predictions without further training.\n"
     ]
    }
   ],
   "source": [
    "tokenizer = BertTokenizer.from_pretrained('bert-base-uncased')\n",
    "bert_base = TFBertModel.from_pretrained('bert-base-uncased')"
   ]
  },
  {
   "cell_type": "code",
   "execution_count": 14,
   "id": "18fd0ba7",
   "metadata": {},
   "outputs": [
    {
     "name": "stdout",
     "output_type": "stream",
     "text": [
      "Training with dropout...\n",
      "Model: \"model\"\n",
      "__________________________________________________________________________________________________\n",
      " Layer (type)                   Output Shape         Param #     Connected to                     \n",
      "==================================================================================================\n",
      " input_1 (InputLayer)           [(None, 40)]         0           []                               \n",
      "                                                                                                  \n",
      " input_2 (InputLayer)           [(None, 40)]         0           []                               \n",
      "                                                                                                  \n",
      " tf_bert_model (TFBertModel)    TFBaseModelOutputWi  109482240   ['input_1[0][0]',                \n",
      "                                thPoolingAndCrossAt               'input_2[0][0]']                \n",
      "                                tentions(last_hidde                                               \n",
      "                                n_state=(None, 40,                                                \n",
      "                                768),                                                             \n",
      "                                 pooler_output=(Non                                               \n",
      "                                e, 768),                                                          \n",
      "                                 past_key_values=No                                               \n",
      "                                ne, hidden_states=N                                               \n",
      "                                one, attentions=Non                                               \n",
      "                                e, cross_attentions                                               \n",
      "                                =None)                                                            \n",
      "                                                                                                  \n",
      " dropout_37 (Dropout)           (None, 768)          0           ['tf_bert_model[0][1]']          \n",
      "                                                                                                  \n",
      " dense (Dense)                  (None, 1)            769         ['dropout_37[0][0]']             \n",
      "                                                                                                  \n",
      "==================================================================================================\n",
      "Total params: 109,483,009\n",
      "Trainable params: 109,483,009\n",
      "Non-trainable params: 0\n",
      "__________________________________________________________________________________________________\n"
     ]
    }
   ],
   "source": [
    "ADD_DENSE = False\n",
    "DENSE_DIM = 64\n",
    "ADD_DROPOUT = True\n",
    "\n",
    "DROPOUT = .2\n",
    "\n",
    "def bert_encode(data, maximum_len, batch_size):\n",
    "    input_ids = []\n",
    "    attention_masks = []\n",
    "\n",
    "    for i in range(0, len(data), batch_size):\n",
    "        batch = data[i:i+batch_size]\n",
    "        for text in batch:\n",
    "            encoded = tokenizer.encode_plus(text,\n",
    "                                            add_special_tokens=True,\n",
    "                                            padding='max_length',\n",
    "                                            max_length=maximum_len,\n",
    "                                            return_attention_mask=True,\n",
    "                                            truncation=True)\n",
    "        \n",
    "            input_ids.append(encoded['input_ids'])\n",
    "            attention_masks.append(encoded['attention_mask'])\n",
    "\n",
    "    return np.array(input_ids), np.array(attention_masks)\n",
    "\n",
    "def build_bert_model(model_layer, learning_rate, add_dense = ADD_DENSE,\n",
    "               dense_dim = DENSE_DIM, add_dropout = ADD_DROPOUT, dropout = DROPOUT):\n",
    "    \n",
    "\n",
    "    input_ids = Input(shape=(40,),dtype='int32')\n",
    "    attention_masks = Input(shape=(40,),dtype='int32')\n",
    "    transformer_layer = model_layer([input_ids,attention_masks])\n",
    "    output = transformer_layer[1]\n",
    "    \n",
    "    if add_dense:\n",
    "        print(\"Training with additional dense layer...\")\n",
    "        output = Dense(dense_dim,activation='relu')(output)\n",
    "    \n",
    "    if add_dropout:\n",
    "        print(\"Training with dropout...\")\n",
    "        output = Dropout(dropout)(output)\n",
    "    \n",
    "    output = Dense(1,activation='sigmoid')(output)\n",
    "    model = Model(inputs = [input_ids,attention_masks],outputs = output)\n",
    "    model.compile(Adam(learning_rate=learning_rate), loss='binary_crossentropy', metrics=['accuracy'])\n",
    "    \n",
    "    return model\n",
    "BERT_base = build_bert_model(bert_base, learning_rate = 1e-5)\n",
    "BERT_base.summary()"
   ]
  },
  {
   "cell_type": "code",
   "execution_count": 15,
   "id": "80edbd51",
   "metadata": {},
   "outputs": [
    {
     "name": "stdout",
     "output_type": "stream",
     "text": [
      "Encoding Tweets...\n",
      "Tweets encoded\n",
      "Epoch 1/5\n",
      "18750/18750 [==============================] - 4127s 220ms/step - loss: 0.3556 - accuracy: 0.8428 - val_loss: 0.3305 - val_accuracy: 0.8569\n",
      "Epoch 2/5\n",
      "18750/18750 [==============================] - 4185s 223ms/step - loss: 0.3069 - accuracy: 0.8680 - val_loss: 0.3305 - val_accuracy: 0.8603\n",
      "Epoch 3/5\n",
      "18750/18750 [==============================] - 4268s 228ms/step - loss: 0.2709 - accuracy: 0.8858 - val_loss: 0.3334 - val_accuracy: 0.8587\n",
      "Test accuracy with BERT: 85.93%\n",
      "4688/4688 [==============================] - 231s 49ms/step\n",
      "              precision    recall  f1-score   support\n",
      "\n",
      "           0       0.85      0.87      0.86     75000\n",
      "           1       0.87      0.85      0.86     75000\n",
      "\n",
      "    accuracy                           0.86    150000\n",
      "   macro avg       0.86      0.86      0.86    150000\n",
      "weighted avg       0.86      0.86      0.86    150000\n",
      "\n",
      "Accuracy score : 0.85928\n",
      "Precision Score : 0.8690221857025473\n",
      "Recall Score : 0.84608\n",
      "F1 Score : 0.8573976489663558\n",
      "AUC : 0.9354213130666666\n",
      "Average-precision score :  0.9372139995224712 \n",
      "\n"
     ]
    },
    {
     "data": {
      "image/png": "[encoded data removed]",
      "text/plain": [
       "<Figure size 1200x600 with 2 Axes>"
      ]
     },
     "metadata": {},
     "output_type": "display_data"
    },
    {
     "name": "stderr",
     "output_type": "stream",
     "text": [
      "2023/07/11 17:24:17 WARNING mlflow.tensorflow: You are saving a TensorFlow Core model or Keras model without a signature. Inference with mlflow.pyfunc.spark_udf() will not work unless the model's pyfunc representation accepts pandas DataFrames as inference inputs.\n",
      "WARNING:absl:Found untraced functions such as embeddings_layer_call_fn, embeddings_layer_call_and_return_conditional_losses, encoder_layer_call_fn, encoder_layer_call_and_return_conditional_losses, pooler_layer_call_fn while saving (showing 5 of 420). These functions will not be directly callable after loading.\n"
     ]
    },
    {
     "name": "stdout",
     "output_type": "stream",
     "text": [
      "INFO:tensorflow:Assets written to: C:\\Users\\aurel\\AppData\\Local\\Temp\\tmp9v0lpk4h\\model\\data\\model\\assets\n"
     ]
    },
    {
     "name": "stderr",
     "output_type": "stream",
     "text": [
      "INFO:tensorflow:Assets written to: C:\\Users\\aurel\\AppData\\Local\\Temp\\tmp9v0lpk4h\\model\\data\\model\\assets\n",
      "2023/07/11 17:25:43 WARNING mlflow.utils.environment: Encountered an unexpected error while inferring pip requirements (model URI: C:\\Users\\aurel\\AppData\\Local\\Temp\\tmp9v0lpk4h\\model, flavor: tensorflow), fall back to return ['tensorflow==2.10.0']. Set logging level to DEBUG to see the full traceback.\n",
      "C:\\Users\\aurel\\miniconda3\\envs\\tensorflow\\lib\\site-packages\\_distutils_hack\\__init__.py:33: UserWarning: Setuptools is replacing distutils.\n",
      "  warnings.warn(\"Setuptools is replacing distutils.\")\n",
      "Successfully registered model 'BERT-Base-Uncased'.\n",
      "2023/07/11 17:25:43 INFO mlflow.tracking._model_registry.client: Waiting up to 300 seconds for model version to finish creation. Model name: BERT-Base-Uncased, version 1\n"
     ]
    },
    {
     "name": "stdout",
     "output_type": "stream",
     "text": [
      "CPU times: total: 1h 30min 38s\n",
      "Wall time: 3h 56min 12s\n"
     ]
    },
    {
     "name": "stderr",
     "output_type": "stream",
     "text": [
      "Created version '1' of model 'BERT-Base-Uncased'.\n"
     ]
    }
   ],
   "source": [
    "%%time\n",
    "experiment_name = \"BERT\"\n",
    "mlflow.set_experiment(experiment_name)\n",
    "\n",
    "\n",
    "with mlflow.start_run(run_name=\"BERT-Base-Uncased\"):\n",
    "    \n",
    "    batch_size = 64\n",
    "\n",
    "    pipeline = Pipeline([\n",
    "        ('clean_text', SpacyTextCleaner(lemmatize=True, rejoin=True)),\n",
    "    ])\n",
    "    \n",
    "    X = pipeline.transform(df_sample['text'])  \n",
    "    y = df_sample['target'].values\n",
    "    \n",
    "    X_train, X_valid, X_test, y_train, y_valid, y_test = train_valid_test_split(X, y)\n",
    "    \n",
    "    print('Encoding Tweets...')\n",
    "    train_input_ids,train_attention_masks = bert_encode(X_train, max_len, 50_000)\n",
    "    valid_input_ids,valid_attention_masks = bert_encode(X_valid, max_len, 50_000)\n",
    "    test_input_ids,test_attention_masks = bert_encode(X_test, max_len, 50_000)\n",
    "    print('Tweets encoded')\n",
    "\n",
    "    \n",
    "\n",
    "    early_stopping = EarlyStopping(monitor='val_accuracy', patience=1)\n",
    "\n",
    "    hist = BERT_base.fit(\n",
    "        [train_input_ids,train_attention_masks], \n",
    "        y_train, \n",
    "        validation_data=([valid_input_ids,valid_attention_masks], y_valid), \n",
    "        epochs=5,\n",
    "        callbacks=[early_stopping],\n",
    "        verbose=1,\n",
    "        batch_size=batch_size\n",
    "    )\n",
    "\n",
    "    scores = BERT_base.evaluate([test_input_ids, test_attention_masks], y_test, verbose=0)\n",
    "    print(\"Test accuracy with BERT: %.2f%%\" % (scores[1]*100))\n",
    "\n",
    "    y_pred_prob = BERT_base.predict([test_input_ids, test_attention_masks])\n",
    "    y_pred_bin = (y_pred_prob > 0.5).astype(int)\n",
    "    \n",
    "    accuracy, precision, recall, f1, score_auc, aucpr_score = calcul_metrics(y_test, y_pred_bin, y_pred_prob, recover=True)\n",
    "    \n",
    "    mlflow.log_metrics({\n",
    "    \"accuracy_score\": scores[1] * 100,\n",
    "    \"precision_score\": precision,\n",
    "    \"recall_score\": recall,\n",
    "    \"f1_score\": f1,\n",
    "    \"auc\": score_auc,\n",
    "    \"precision_recall_score\": aucpr_score,\n",
    "    })\n",
    "    model_name = \"BERT\"\n",
    "    plot_hist(hist, model_name)\n",
    "    mlflow.log_artifact(f'{model_name}_training_accuracy_loss.png')\n",
    "    mlflow.keras.log_model(\n",
    "        BERT_base,\n",
    "        artifact_path=\"BERT-Base-Uncased\",\n",
    "        registered_model_name=\"BERT-Base-Uncased\"\n",
    "    )"
   ]
  },
  {
   "cell_type": "markdown",
   "id": "8fda5770",
   "metadata": {},
   "source": [
    "## USE - Universel Sentence Encoder"
   ]
  },
  {
   "cell_type": "code",
   "execution_count": null,
   "id": "a601ed0f",
   "metadata": {},
   "outputs": [],
   "source": [
    "cuda.select_device(0)\n",
    "cuda.close()\n",
    "gc.collect()"
   ]
  },
  {
   "cell_type": "code",
   "execution_count": 16,
   "id": "f17fa5cb",
   "metadata": {},
   "outputs": [],
   "source": [
    "embedding = \"https://tfhub.dev/google/universal-sentence-encoder/4\"\n",
    "hub_layer = hub.KerasLayer(embedding, input_shape=[], dtype=tf.string, trainable=True)"
   ]
  },
  {
   "cell_type": "code",
   "execution_count": null,
   "id": "14bc6929",
   "metadata": {},
   "outputs": [
    {
     "name": "stderr",
     "output_type": "stream",
     "text": [
      "2023/07/11 18:21:44 INFO mlflow.tracking.fluent: Experiment with name 'USE' does not exist. Creating a new experiment.\n"
     ]
    }
   ],
   "source": [
    "%%time\n",
    "experiment_name = \"USE\"\n",
    "mlflow.set_experiment(experiment_name)\n",
    "\n",
    "with mlflow.start_run(run_name=\"USE-Base\"):\n",
    "    batch_size = 128\n",
    "    \n",
    "\n",
    "    \n",
    "    pipeline = Pipeline([\n",
    "        ('clean_text', SpacyTextCleaner(lemmatize=True, rejoin=True)),\n",
    "    ])\n",
    "    \n",
    "    X = pipeline.transform(df_sample['text'])\n",
    "    X = np.array(X)\n",
    "    y = df_sample['target'].values\n",
    "    X_train, X_valid, X_test, y_train, y_valid, y_test = train_valid_test_split(X, y)\n",
    "\n",
    "    \n",
    "    model = Sequential()\n",
    "    model.add(hub_layer)\n",
    "    model.add(Dropout(0.3))\n",
    "    model.add(Dense(64, activation='elu'))\n",
    "    model.add(Dropout(0.3))\n",
    "    model.add(Dense(1, activation='sigmoid'))\n",
    "    model.compile(optimizer='adam', loss='binary_crossentropy', metrics=['accuracy'])\n",
    "    model.summary()\n",
    "    early_stopping = EarlyStopping(monitor='val_accuracy', patience=2)\n",
    "    \n",
    "\n",
    "    hist = model.fit(\n",
    "        X_train, \n",
    "        y_train, \n",
    "        validation_data=(X_valid, y_valid), \n",
    "        epochs=5,\n",
    "        callbacks=[early_stopping],\n",
    "        verbose=1, \n",
    "        batch_size=batch_size\n",
    "    )\n",
    "\n",
    "\n",
    "    y_pred = model.predict(X_test)\n",
    "    y_pred_bin = (y_pred > 0.5).astype(int)\n",
    "   \n",
    "    scores = model.evaluate(X_test, y_test, verbose=0)\n",
    "    print(\"Accuracy on test data: %.2f%%\" % (scores[1] * 100))\n",
    "    \n",
    "    accuracy, precision, recall, f1, score_auc, aucpr_score = calcul_metrics(y_test, y_pred_bin, \"Performances sur le test set\", recover=True)\n",
    "    \n",
    "    mlflow.log_metrics({\n",
    "    \"accuracy_score\": scores[1] * 100,\n",
    "    \"precision_score\": precision,\n",
    "    \"recall_score\": recall,\n",
    "    \"f1_score\": f1,\n",
    "    \"auc\": score_auc,\n",
    "    \"precision_recall_score\": aucpr_score,\n",
    "    })\n",
    "\n",
    "    mlflow.log_metrics({\n",
    "        \"test_accuracy_score\": scores[1] * 100,\n",
    "    })\n",
    "    model_name = \"USE\"\n",
    "    plot_hist(hist, model_name)\n",
    "    mlflow.log_artifact(f'{model_name}_training_accuracy_loss.png')\n",
    "    mlflow.keras.log_model(\n",
    "        model,\n",
    "        artifact_path=\"USE-Base\",\n",
    "        registered_model_name=\"USE-Base\"\n",
    "    )\n",
    " "
   ]
  }
 ],
 "metadata": {
  "kernelspec": {
   "display_name": "Python 3.9 (tensorflow)",
   "language": "python",
   "name": "tensorflow"
  },
  "language_info": {
   "codemirror_mode": {
    "name": "ipython",
    "version": 3
   },
   "file_extension": ".py",
   "mimetype": "text/x-python",
   "name": "python",
   "nbconvert_exporter": "python",
   "pygments_lexer": "ipython3",
   "version": "3.9.17"
  }
 },
 "nbformat": 4,
 "nbformat_minor": 5
}

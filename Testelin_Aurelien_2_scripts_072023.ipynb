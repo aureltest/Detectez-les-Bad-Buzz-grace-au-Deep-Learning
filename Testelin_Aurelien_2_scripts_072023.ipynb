{
 "cells": [
  {
   "cell_type": "code",
   "execution_count": 183,
   "outputs": [],
   "source": [
    "import os\n",
    "import pandas as pd\n",
    "import matplotlib.pyplot as plt\n",
    "import seaborn as sns\n",
    "import numpy as np\n",
    "import nltk\n",
    "import mlflow\n",
    "import mlflow.sklearn\n",
    "import sklearn.metrics\n",
    "from mlflow.models.signature import infer_signature\n",
    "from sklearn.model_selection import GridSearchCV\n",
    "import re\n",
    "from sklearn.model_selection import train_test_split\n",
    "from sklearn.base import BaseEstimator, TransformerMixin\n",
    "from sklearn.metrics import auc as auc_score_func\n",
    "from sklearn.metrics import make_scorer, classification_report, precision_score, recall_score, f1_score, confusion_matrix, roc_curve\n",
    "from sklearn.feature_extraction.text import CountVectorizer, TfidfVectorizer\n",
    "from sklearn.preprocessing import StandardScaler\n",
    "from sklearn.linear_model import LogisticRegression\n",
    "import spacy\n",
    "import gensim\n",
    "nlp = spacy.load('en_core_web_lg')\n",
    "\n",
    "from sklearn.pipeline import Pipeline\n",
    "from sklearn.metrics import classification_report"
   ],
   "metadata": {
    "collapsed": false
   }
  },
  {
   "cell_type": "code",
   "execution_count": 184,
   "id": "948f30b2",
   "metadata": {},
   "outputs": [
    {
     "data": {
      "text/plain": "         target         ids                          date      flag  \\\n0             0  1467810369  Mon Apr 06 22:19:45 PDT 2009  NO_QUERY   \n1             0  1467810672  Mon Apr 06 22:19:49 PDT 2009  NO_QUERY   \n2             0  1467810917  Mon Apr 06 22:19:53 PDT 2009  NO_QUERY   \n3             0  1467811184  Mon Apr 06 22:19:57 PDT 2009  NO_QUERY   \n4             0  1467811193  Mon Apr 06 22:19:57 PDT 2009  NO_QUERY   \n...         ...         ...                           ...       ...   \n1599995       4  2193601966  Tue Jun 16 08:40:49 PDT 2009  NO_QUERY   \n1599996       4  2193601969  Tue Jun 16 08:40:49 PDT 2009  NO_QUERY   \n1599997       4  2193601991  Tue Jun 16 08:40:49 PDT 2009  NO_QUERY   \n1599998       4  2193602064  Tue Jun 16 08:40:49 PDT 2009  NO_QUERY   \n1599999       4  2193602129  Tue Jun 16 08:40:50 PDT 2009  NO_QUERY   \n\n                    user                                               text  \n0        _TheSpecialOne_  @switchfoot http://twitpic.com/2y1zl - Awww, t...  \n1          scotthamilton  is upset that he can't update his Facebook by ...  \n2               mattycus  @Kenichan I dived many times for the ball. Man...  \n3                ElleCTF    my whole body feels itchy and like its on fire   \n4                 Karoli  @nationwideclass no, it's not behaving at all....  \n...                  ...                                                ...  \n1599995  AmandaMarie1028  Just woke up. Having no school is the best fee...  \n1599996      TheWDBoards  TheWDB.com - Very cool to hear old Walt interv...  \n1599997           bpbabe  Are you ready for your MoJo Makeover? Ask me f...  \n1599998     tinydiamondz  Happy 38th Birthday to my boo of alll time!!! ...  \n1599999   RyanTrevMorris  happy #charitytuesday @theNSPCC @SparksCharity...  \n\n[1600000 rows x 6 columns]",
      "text/html": "<div>\n<style scoped>\n    .dataframe tbody tr th:only-of-type {\n        vertical-align: middle;\n    }\n\n    .dataframe tbody tr th {\n        vertical-align: top;\n    }\n\n    .dataframe thead th {\n        text-align: right;\n    }\n</style>\n<table border=\"1\" class=\"dataframe\">\n  <thead>\n    <tr style=\"text-align: right;\">\n      <th></th>\n      <th>target</th>\n      <th>ids</th>\n      <th>date</th>\n      <th>flag</th>\n      <th>user</th>\n      <th>text</th>\n    </tr>\n  </thead>\n  <tbody>\n    <tr>\n      <th>0</th>\n      <td>0</td>\n      <td>1467810369</td>\n      <td>Mon Apr 06 22:19:45 PDT 2009</td>\n      <td>NO_QUERY</td>\n      <td>_TheSpecialOne_</td>\n      <td>@switchfoot http://twitpic.com/2y1zl - Awww, t...</td>\n    </tr>\n    <tr>\n      <th>1</th>\n      <td>0</td>\n      <td>1467810672</td>\n      <td>Mon Apr 06 22:19:49 PDT 2009</td>\n      <td>NO_QUERY</td>\n      <td>scotthamilton</td>\n      <td>is upset that he can't update his Facebook by ...</td>\n    </tr>\n    <tr>\n      <th>2</th>\n      <td>0</td>\n      <td>1467810917</td>\n      <td>Mon Apr 06 22:19:53 PDT 2009</td>\n      <td>NO_QUERY</td>\n      <td>mattycus</td>\n      <td>@Kenichan I dived many times for the ball. Man...</td>\n    </tr>\n    <tr>\n      <th>3</th>\n      <td>0</td>\n      <td>1467811184</td>\n      <td>Mon Apr 06 22:19:57 PDT 2009</td>\n      <td>NO_QUERY</td>\n      <td>ElleCTF</td>\n      <td>my whole body feels itchy and like its on fire</td>\n    </tr>\n    <tr>\n      <th>4</th>\n      <td>0</td>\n      <td>1467811193</td>\n      <td>Mon Apr 06 22:19:57 PDT 2009</td>\n      <td>NO_QUERY</td>\n      <td>Karoli</td>\n      <td>@nationwideclass no, it's not behaving at all....</td>\n    </tr>\n    <tr>\n      <th>...</th>\n      <td>...</td>\n      <td>...</td>\n      <td>...</td>\n      <td>...</td>\n      <td>...</td>\n      <td>...</td>\n    </tr>\n    <tr>\n      <th>1599995</th>\n      <td>4</td>\n      <td>2193601966</td>\n      <td>Tue Jun 16 08:40:49 PDT 2009</td>\n      <td>NO_QUERY</td>\n      <td>AmandaMarie1028</td>\n      <td>Just woke up. Having no school is the best fee...</td>\n    </tr>\n    <tr>\n      <th>1599996</th>\n      <td>4</td>\n      <td>2193601969</td>\n      <td>Tue Jun 16 08:40:49 PDT 2009</td>\n      <td>NO_QUERY</td>\n      <td>TheWDBoards</td>\n      <td>TheWDB.com - Very cool to hear old Walt interv...</td>\n    </tr>\n    <tr>\n      <th>1599997</th>\n      <td>4</td>\n      <td>2193601991</td>\n      <td>Tue Jun 16 08:40:49 PDT 2009</td>\n      <td>NO_QUERY</td>\n      <td>bpbabe</td>\n      <td>Are you ready for your MoJo Makeover? Ask me f...</td>\n    </tr>\n    <tr>\n      <th>1599998</th>\n      <td>4</td>\n      <td>2193602064</td>\n      <td>Tue Jun 16 08:40:49 PDT 2009</td>\n      <td>NO_QUERY</td>\n      <td>tinydiamondz</td>\n      <td>Happy 38th Birthday to my boo of alll time!!! ...</td>\n    </tr>\n    <tr>\n      <th>1599999</th>\n      <td>4</td>\n      <td>2193602129</td>\n      <td>Tue Jun 16 08:40:50 PDT 2009</td>\n      <td>NO_QUERY</td>\n      <td>RyanTrevMorris</td>\n      <td>happy #charitytuesday @theNSPCC @SparksCharity...</td>\n    </tr>\n  </tbody>\n</table>\n<p>1600000 rows × 6 columns</p>\n</div>"
     },
     "metadata": {},
     "output_type": "display_data"
    }
   ],
   "source": [
    "def load_data():\n",
    "    column_names = [\"target\", \"ids\", \"date\", \"flag\", \"user\", \"text\"]\n",
    "    df = pd.read_csv(\"sentiment140/training.1600000.processed.noemoticon.csv\", names=column_names, encoding='ISO-8859-1')\n",
    "    display(df)\n",
    "    return df\n",
    "\n",
    "df = load_data()"
   ]
  },
  {
   "cell_type": "code",
   "execution_count": 185,
   "outputs": [
    {
     "name": "stdout",
     "output_type": "stream",
     "text": [
      "<class 'pandas.core.frame.DataFrame'>\n",
      "RangeIndex: 1600000 entries, 0 to 1599999\n",
      "Data columns (total 6 columns):\n",
      " #   Column  Non-Null Count    Dtype \n",
      "---  ------  --------------    ----- \n",
      " 0   target  1600000 non-null  int64 \n",
      " 1   ids     1600000 non-null  int64 \n",
      " 2   date    1600000 non-null  object\n",
      " 3   flag    1600000 non-null  object\n",
      " 4   user    1600000 non-null  object\n",
      " 5   text    1600000 non-null  object\n",
      "dtypes: int64(2), object(4)\n",
      "memory usage: 73.2+ MB\n"
     ]
    },
    {
     "data": {
      "text/plain": "target          2\nids       1598315\ndate       774363\nflag            1\nuser       659775\ntext      1581466\ndtype: int64"
     },
     "execution_count": 185,
     "metadata": {},
     "output_type": "execute_result"
    }
   ],
   "source": [
    "df.info()\n",
    "df.nunique()"
   ],
   "metadata": {
    "collapsed": false
   }
  },
  {
   "cell_type": "code",
   "execution_count": 186,
   "outputs": [
    {
     "name": "stdout",
     "output_type": "stream",
     "text": [
      "target    0.0\n",
      "ids       0.0\n",
      "date      0.0\n",
      "flag      0.0\n",
      "user      0.0\n",
      "text      0.0\n",
      "dtype: float64\n",
      "Nombres de tweets dupliqués :  18534\n",
      "col = target -> duplicated = 1599998\n",
      "col = ids -> duplicated = 1685\n",
      "col = date -> duplicated = 825637\n",
      "col = flag -> duplicated = 1599999\n",
      "col = user -> duplicated = 940225\n",
      "col = text -> duplicated = 18534\n",
      "\n",
      "\n",
      "0          False\n",
      "1          False\n",
      "2          False\n",
      "3          False\n",
      "4          False\n",
      "           ...  \n",
      "1599995    False\n",
      "1599996    False\n",
      "1599997    False\n",
      "1599998    False\n",
      "1599999    False\n",
      "Name: text, Length: 1600000, dtype: bool\n"
     ]
    },
    {
     "data": {
      "text/plain": "             target           ids\ncount  1.600000e+06  1.600000e+06\nmean   2.000000e+00  1.998818e+09\nstd    2.000001e+00  1.935761e+08\nmin    0.000000e+00  1.467810e+09\n25%    0.000000e+00  1.956916e+09\n50%    2.000000e+00  2.002102e+09\n75%    4.000000e+00  2.177059e+09\nmax    4.000000e+00  2.329206e+09",
      "text/html": "<div>\n<style scoped>\n    .dataframe tbody tr th:only-of-type {\n        vertical-align: middle;\n    }\n\n    .dataframe tbody tr th {\n        vertical-align: top;\n    }\n\n    .dataframe thead th {\n        text-align: right;\n    }\n</style>\n<table border=\"1\" class=\"dataframe\">\n  <thead>\n    <tr style=\"text-align: right;\">\n      <th></th>\n      <th>target</th>\n      <th>ids</th>\n    </tr>\n  </thead>\n  <tbody>\n    <tr>\n      <th>count</th>\n      <td>1.600000e+06</td>\n      <td>1.600000e+06</td>\n    </tr>\n    <tr>\n      <th>mean</th>\n      <td>2.000000e+00</td>\n      <td>1.998818e+09</td>\n    </tr>\n    <tr>\n      <th>std</th>\n      <td>2.000001e+00</td>\n      <td>1.935761e+08</td>\n    </tr>\n    <tr>\n      <th>min</th>\n      <td>0.000000e+00</td>\n      <td>1.467810e+09</td>\n    </tr>\n    <tr>\n      <th>25%</th>\n      <td>0.000000e+00</td>\n      <td>1.956916e+09</td>\n    </tr>\n    <tr>\n      <th>50%</th>\n      <td>2.000000e+00</td>\n      <td>2.002102e+09</td>\n    </tr>\n    <tr>\n      <th>75%</th>\n      <td>4.000000e+00</td>\n      <td>2.177059e+09</td>\n    </tr>\n    <tr>\n      <th>max</th>\n      <td>4.000000e+00</td>\n      <td>2.329206e+09</td>\n    </tr>\n  </tbody>\n</table>\n</div>"
     },
     "metadata": {},
     "output_type": "display_data"
    },
    {
     "data": {
      "text/plain": "                                date      flag      user  \\\ncount                        1600000   1600000   1600000   \nunique                        774363         1    659775   \ntop     Mon Jun 15 12:53:14 PDT 2009  NO_QUERY  lost_dog   \nfreq                              20   1600000       549   \n\n                             text  \ncount                     1600000  \nunique                    1581466  \ntop     isPlayer Has Died! Sorry   \nfreq                          210  ",
      "text/html": "<div>\n<style scoped>\n    .dataframe tbody tr th:only-of-type {\n        vertical-align: middle;\n    }\n\n    .dataframe tbody tr th {\n        vertical-align: top;\n    }\n\n    .dataframe thead th {\n        text-align: right;\n    }\n</style>\n<table border=\"1\" class=\"dataframe\">\n  <thead>\n    <tr style=\"text-align: right;\">\n      <th></th>\n      <th>date</th>\n      <th>flag</th>\n      <th>user</th>\n      <th>text</th>\n    </tr>\n  </thead>\n  <tbody>\n    <tr>\n      <th>count</th>\n      <td>1600000</td>\n      <td>1600000</td>\n      <td>1600000</td>\n      <td>1600000</td>\n    </tr>\n    <tr>\n      <th>unique</th>\n      <td>774363</td>\n      <td>1</td>\n      <td>659775</td>\n      <td>1581466</td>\n    </tr>\n    <tr>\n      <th>top</th>\n      <td>Mon Jun 15 12:53:14 PDT 2009</td>\n      <td>NO_QUERY</td>\n      <td>lost_dog</td>\n      <td>isPlayer Has Died! Sorry</td>\n    </tr>\n    <tr>\n      <th>freq</th>\n      <td>20</td>\n      <td>1600000</td>\n      <td>549</td>\n      <td>210</td>\n    </tr>\n  </tbody>\n</table>\n</div>"
     },
     "metadata": {},
     "output_type": "display_data"
    },
    {
     "data": {
      "text/plain": "<Figure size 1000x800 with 2 Axes>",
      "image/png": "[encoded data removed]"
     },
     "metadata": {},
     "output_type": "display_data"
    }
   ],
   "source": [
    "def analyse_data(data):\n",
    "    \"\"\"\n",
    "    Analyse un DataFrame en affichant le pourcentage de valeurs manquantes, une heatmap des valeurs manquantes,\n",
    "    le nombre de doublons pour l'ensemble du DataFrame et par colonne. Affiche également des statistiques\n",
    "    descriptives pour les colonnes numériques et non numériques.\n",
    "\n",
    "    Args:\n",
    "        data (pandas.DataFrame): DataFrame à analyser.\n",
    "\n",
    "    Returns:\n",
    "        None. Cette fonction affiche directement les informations et les graphiques.\n",
    "    \"\"\"\n",
    "    print(data.isna().mean().sort_values())\n",
    "    plt.figure(figsize=(10, 8))\n",
    "    sns.heatmap(data.isna())\n",
    "    print(\"Nombres de tweets dupliqués : \", data.text.duplicated().sum())\n",
    "    for col in data.columns:\n",
    "        n = data[col].duplicated().sum()\n",
    "        print(f\"col = {col} -> duplicated = {n}\")\n",
    "    print(\"\\n\")\n",
    "    print(data.text.duplicated(keep=\"first\"))\n",
    "    idx = data.text.duplicated(keep=\"first\")\n",
    "    data.loc[idx, :].sort_values(\"text\").head(10)\n",
    "    display(data.describe(include=np.number))\n",
    "    display(data.describe(include=object))\n",
    "\n",
    "analyse_data(df)"
   ],
   "metadata": {
    "collapsed": false
   }
  },
  {
   "cell_type": "code",
   "execution_count": 187,
   "outputs": [
    {
     "data": {
      "text/plain": "Text(0.5, 1.0, 'Distribution du nombre de caractères des tweets')"
     },
     "execution_count": 187,
     "metadata": {},
     "output_type": "execute_result"
    },
    {
     "data": {
      "text/plain": "<Figure size 500x500 with 1 Axes>",
      "image/png": "[encoded data removed]"
     },
     "metadata": {},
     "output_type": "display_data"
    }
   ],
   "source": [
    "tmp = df.text.str.len()\n",
    "sns.displot(tmp)\n",
    "plt.title(\"Distribution du nombre de caractères des tweets\")"
   ],
   "metadata": {
    "collapsed": false
   }
  },
  {
   "cell_type": "code",
   "execution_count": 188,
   "outputs": [
    {
     "data": {
      "text/plain": "         target                                               text\n0             0  @switchfoot http://twitpic.com/2y1zl - Awww, t...\n1             0  is upset that he can't update his Facebook by ...\n2             0  @Kenichan I dived many times for the ball. Man...\n3             0    my whole body feels itchy and like its on fire \n4             0  @nationwideclass no, it's not behaving at all....\n...         ...                                                ...\n1599995       4  Just woke up. Having no school is the best fee...\n1599996       4  TheWDB.com - Very cool to hear old Walt interv...\n1599997       4  Are you ready for your MoJo Makeover? Ask me f...\n1599998       4  Happy 38th Birthday to my boo of alll time!!! ...\n1599999       4  happy #charitytuesday @theNSPCC @SparksCharity...\n\n[1581466 rows x 2 columns]",
      "text/html": "<div>\n<style scoped>\n    .dataframe tbody tr th:only-of-type {\n        vertical-align: middle;\n    }\n\n    .dataframe tbody tr th {\n        vertical-align: top;\n    }\n\n    .dataframe thead th {\n        text-align: right;\n    }\n</style>\n<table border=\"1\" class=\"dataframe\">\n  <thead>\n    <tr style=\"text-align: right;\">\n      <th></th>\n      <th>target</th>\n      <th>text</th>\n    </tr>\n  </thead>\n  <tbody>\n    <tr>\n      <th>0</th>\n      <td>0</td>\n      <td>@switchfoot http://twitpic.com/2y1zl - Awww, t...</td>\n    </tr>\n    <tr>\n      <th>1</th>\n      <td>0</td>\n      <td>is upset that he can't update his Facebook by ...</td>\n    </tr>\n    <tr>\n      <th>2</th>\n      <td>0</td>\n      <td>@Kenichan I dived many times for the ball. Man...</td>\n    </tr>\n    <tr>\n      <th>3</th>\n      <td>0</td>\n      <td>my whole body feels itchy and like its on fire</td>\n    </tr>\n    <tr>\n      <th>4</th>\n      <td>0</td>\n      <td>@nationwideclass no, it's not behaving at all....</td>\n    </tr>\n    <tr>\n      <th>...</th>\n      <td>...</td>\n      <td>...</td>\n    </tr>\n    <tr>\n      <th>1599995</th>\n      <td>4</td>\n      <td>Just woke up. Having no school is the best fee...</td>\n    </tr>\n    <tr>\n      <th>1599996</th>\n      <td>4</td>\n      <td>TheWDB.com - Very cool to hear old Walt interv...</td>\n    </tr>\n    <tr>\n      <th>1599997</th>\n      <td>4</td>\n      <td>Are you ready for your MoJo Makeover? Ask me f...</td>\n    </tr>\n    <tr>\n      <th>1599998</th>\n      <td>4</td>\n      <td>Happy 38th Birthday to my boo of alll time!!! ...</td>\n    </tr>\n    <tr>\n      <th>1599999</th>\n      <td>4</td>\n      <td>happy #charitytuesday @theNSPCC @SparksCharity...</td>\n    </tr>\n  </tbody>\n</table>\n<p>1581466 rows × 2 columns</p>\n</div>"
     },
     "execution_count": 188,
     "metadata": {},
     "output_type": "execute_result"
    }
   ],
   "source": [
    "def drop_columns(df):\n",
    "    df = df[['target', 'text']]\n",
    "    return df\n",
    "\n",
    "def drop_text_duplicate(df):\n",
    "    df = df.drop_duplicates(subset=\"text\")\n",
    "    return df\n",
    "\n",
    "df = drop_columns(df)\n",
    "df = drop_text_duplicate(df)\n",
    "df"
   ],
   "metadata": {
    "collapsed": false
   }
  },
  {
   "cell_type": "code",
   "execution_count": 189,
   "outputs": [],
   "source": [
    "def create_sample(df):\n",
    "    negative_tweets = df[df.iloc[:, 0] == 0]\n",
    "    negative_tweets = negative_tweets.sample(n = 10000, random_state=0)\n",
    "    positive_tweets = df[df.iloc[:, 0] == 4]\n",
    "    positive_tweets['target'] = positive_tweets['target'].replace({4:1})\n",
    "    positive_tweets = positive_tweets.sample(n = 10000, random_state=0)\n",
    "    df_sample = pd.concat([negative_tweets, positive_tweets], ignore_index=True)\n",
    "    return df_sample\n",
    "df_sample = create_sample(df)"
   ],
   "metadata": {
    "collapsed": false
   }
  },
  {
   "cell_type": "code",
   "execution_count": 190,
   "outputs": [
    {
     "data": {
      "text/plain": "target\n0    0.5\n1    0.5\nName: proportion, dtype: float64"
     },
     "execution_count": 190,
     "metadata": {},
     "output_type": "execute_result"
    }
   ],
   "source": [
    "df_sample.target.value_counts(normalize=True)"
   ],
   "metadata": {
    "collapsed": false
   }
  },
  {
   "cell_type": "code",
   "execution_count": 191,
   "outputs": [
    {
     "name": "stdout",
     "output_type": "stream",
     "text": [
      "nb tokens 236736, nb tokens uniques 235892\n",
      "['A', 'a', 'aa', 'aal', 'aalii', 'aam', 'Aani', 'aardvark', 'aardwolf', 'Aaron', 'Aaronic', 'Aaronical', 'Aaronite', 'Aaronitic', 'Aaru', 'Ab', 'aba', 'Ababdeh', 'Ababua', 'abac', 'abaca', 'abacate', 'abacay', 'abacinate', 'abacination', 'abaciscus', 'abacist', 'aback', 'abactinal', 'abactinally']\n"
     ]
    }
   ],
   "source": [
    "def display_tokens_info(tokens):\n",
    "    \"\"\"display info about corpus\"\"\"\n",
    "    print(f\"nb tokens {len(tokens)}, nb tokens uniques {len(set(tokens))}\")\n",
    "    print(tokens[:30])\n",
    "eng_words = nltk.corpus.words.words()\n",
    "display_tokens_info(eng_words)"
   ],
   "metadata": {
    "collapsed": false
   }
  },
  {
   "cell_type": "code",
   "execution_count": 192,
   "outputs": [
    {
     "name": "stdout",
     "output_type": "stream",
     "text": [
      "nb tokens 236736, nb tokens uniques 178311\n",
      "['a', 'a', 'aa', 'aal', 'aalii', 'aam', 'aani', 'aardvark', 'aardwolf', 'aaron', 'aaron', 'aaron', 'aaronit', 'aaronit', 'aaru', 'ab', 'aba', 'ababdeh', 'ababua', 'abac', 'abaca', 'abac', 'abacay', 'abacin', 'abacin', 'abaciscu', 'abacist', 'aback', 'abactin', 'abactin']\n"
     ]
    }
   ],
   "source": [
    "ps = nltk.PorterStemmer()\n",
    "eng_words_stem = [ps.stem(i) for i in eng_words]\n",
    "display_tokens_info(eng_words_stem)"
   ],
   "metadata": {
    "collapsed": false
   }
  },
  {
   "cell_type": "code",
   "execution_count": 193,
   "outputs": [
    {
     "name": "stdout",
     "output_type": "stream",
     "text": [
      "nb tokens 236736, nb tokens uniques 235068\n",
      "['A', 'a', 'aa', 'aal', 'aalii', 'aam', 'Aani', 'aardvark', 'aardwolf', 'Aaron', 'Aaronic', 'Aaronical', 'Aaronite', 'Aaronitic', 'Aaru', 'Ab', 'aba', 'Ababdeh', 'Ababua', 'abac', 'abaca', 'abacate', 'abacay', 'abacinate', 'abacination', 'abaciscus', 'abacist', 'aback', 'abactinal', 'abactinally']\n"
     ]
    }
   ],
   "source": [
    "lm = nltk.WordNetLemmatizer()\n",
    "eng_words_lem = [lm.lemmatize(i) for i in eng_words]\n",
    "display_tokens_info(eng_words_lem)"
   ],
   "metadata": {
    "collapsed": false
   }
  },
  {
   "cell_type": "code",
   "execution_count": 194,
   "outputs": [],
   "source": [
    "stop_words = set(nltk.corpus.stopwords.words('english'))"
   ],
   "metadata": {
    "collapsed": false
   }
  },
  {
   "cell_type": "code",
   "execution_count": 195,
   "outputs": [
    {
     "data": {
      "text/plain": "\"\\nnltk.download('omw-1.4')\\nnltk.download('wordnet')\\nnltk.download('stopwords')\\nnltk.download('words')\\n\""
     },
     "execution_count": 195,
     "metadata": {},
     "output_type": "execute_result"
    }
   ],
   "source": [
    "\"\"\"\n",
    "nltk.download('omw-1.4')\n",
    "nltk.download('wordnet')\n",
    "nltk.download('stopwords')\n",
    "nltk.download('words')\n",
    "\"\"\""
   ],
   "metadata": {
    "collapsed": false
   }
  },
  {
   "cell_type": "code",
   "execution_count": 196,
   "outputs": [],
   "source": [
    "def process_text(doc,\n",
    "                   rejoin=False,\n",
    "                   lemm_or_stemm=\"stem\",\n",
    "                   min_len_word=2,\n",
    "                   force_is_alpha=True):\n",
    "\n",
    "    doc = doc.lower().strip()\n",
    "    doc_spacy = nlp(doc)\n",
    "\n",
    "    if lemm_or_stemm == \"lem\":\n",
    "        trans_text = [token.lemma_ for token in doc_spacy]\n",
    "    else:\n",
    "        trans = nltk.PorterStemmer()\n",
    "        trans_text = [trans.stem(i.text) for i in doc_spacy]\n",
    "\n",
    "    #classic stopwords\n",
    "    cleaned_tokens_list = [w for w in trans_text if w not in stop_words]\n",
    "\n",
    "    #no more len words\n",
    "    more_than_n = [w for w in cleaned_tokens_list if len(w) >= min_len_word]\n",
    "\n",
    "      #only alpha chars\n",
    "    if force_is_alpha:\n",
    "        alpha_tokens = [w for w in more_than_n if w.isalpha()]\n",
    "    else:\n",
    "        alpha_tokens = more_than_n\n",
    "\n",
    "    #manage return type\n",
    "    if rejoin:\n",
    "        return \" \".join(alpha_tokens)\n",
    "\n",
    "    return alpha_tokens\n",
    "\n",
    "\n",
    "def final_clean_stem(doc):\n",
    "    new_doc = process_text(doc,\n",
    "                             rejoin=True,\n",
    "                             lemm_or_stemm=\"stem\")\n",
    "    return new_doc\n",
    "\n",
    "def final_clean_lem(doc):\n",
    "    new_doc = process_text(doc,\n",
    "                             rejoin=True,\n",
    "                             lemm_or_stemm=\"lem\")\n",
    "    return new_doc\n",
    "\n",
    "\n",
    "class TextPreprocessor(BaseEstimator, TransformerMixin):\n",
    "    def __init__(self, function):\n",
    "        self.function = function\n",
    "\n",
    "    def fit(self, X, y=None):\n",
    "        return self\n",
    "\n",
    "    def transform(self, X, y=None):\n",
    "        return X.apply(self.function)"
   ],
   "metadata": {
    "collapsed": false
   }
  },
  {
   "cell_type": "code",
   "execution_count": 197,
   "outputs": [
    {
     "name": "stderr",
     "output_type": "stream",
     "text": [
      "100%|██████████| 20000/20000 [01:31<00:00, 218.29it/s]\n",
      "100%|██████████| 20000/20000 [01:23<00:00, 238.29it/s]\n"
     ]
    }
   ],
   "source": [
    "from tqdm import tqdm\n",
    "tqdm.pandas()\n",
    "\n",
    "\n",
    "df_sample['clean_text_stem'] = df_sample.text.progress_apply(final_clean_stem)\n",
    "df_sample['clean_text_lem'] = df_sample.text.progress_apply(final_clean_lem)"
   ],
   "metadata": {
    "collapsed": false
   }
  },
  {
   "cell_type": "code",
   "execution_count": 198,
   "outputs": [
    {
     "data": {
      "text/plain": "       target                                               text  \\\n0           0       homework    Three projects is a lot of work!   \n1           0  thought i just saw sara walking into the cante...   \n2           0                                      ow my heeaad    \n3           0  @meimeinono you're not missing much tonight. s...   \n4           0  @gab_iii I'm totally jealous of your hat and y...   \n...       ...                                                ...   \n19995       1  Coming home from camping with K M and A  my ar...   \n19996       1  @cheridennis Had to double check! Glad I don't...   \n19997       1  @nglalala oh my goodness! i just checked my @ ...   \n19998       1  Highly recomend UP!  bring tissues, its pretty...   \n19999       1  @thecrazyjogger nice  I've heard good things a...   \n\n                                         clean_text_stem  \\\n0                        homework three project lot work   \n1      thought saw sara walk canteen got excit think ...   \n2                                              ow heeaad   \n3                              miss much tonight show go   \n4                                 total jealou hat shirt   \n...                                                  ...   \n19995                            come home camp arm tire   \n19996              doubl check glad send twolic see soon   \n19997  oh good check repli saw yay twitter excit ye w...   \n19998           highli recomend bring tissu pretti sweet   \n19999  nice heard good thing friend mine realli like ...   \n\n                                          clean_text_lem  \n0                        homework three project lot work  \n1      think see sara walk canteen get excited thinki...  \n2                                              ow heeaad  \n3                              miss much tonight show go  \n4                              totally jealous hat shirt  \n...                                                  ...  \n19995                        come home camping arm tired  \n19996            double check glad send twolice see soon  \n19997  oh goodness check reply see yay twitter exciti...  \n19998          highly recomend bring tissue pretty sweet  \n19999  nice hear good thing friend mine really like t...  \n\n[20000 rows x 4 columns]",
      "text/html": "<div>\n<style scoped>\n    .dataframe tbody tr th:only-of-type {\n        vertical-align: middle;\n    }\n\n    .dataframe tbody tr th {\n        vertical-align: top;\n    }\n\n    .dataframe thead th {\n        text-align: right;\n    }\n</style>\n<table border=\"1\" class=\"dataframe\">\n  <thead>\n    <tr style=\"text-align: right;\">\n      <th></th>\n      <th>target</th>\n      <th>text</th>\n      <th>clean_text_stem</th>\n      <th>clean_text_lem</th>\n    </tr>\n  </thead>\n  <tbody>\n    <tr>\n      <th>0</th>\n      <td>0</td>\n      <td>homework    Three projects is a lot of work!</td>\n      <td>homework three project lot work</td>\n      <td>homework three project lot work</td>\n    </tr>\n    <tr>\n      <th>1</th>\n      <td>0</td>\n      <td>thought i just saw sara walking into the cante...</td>\n      <td>thought saw sara walk canteen got excit think ...</td>\n      <td>think see sara walk canteen get excited thinki...</td>\n    </tr>\n    <tr>\n      <th>2</th>\n      <td>0</td>\n      <td>ow my heeaad</td>\n      <td>ow heeaad</td>\n      <td>ow heeaad</td>\n    </tr>\n    <tr>\n      <th>3</th>\n      <td>0</td>\n      <td>@meimeinono you're not missing much tonight. s...</td>\n      <td>miss much tonight show go</td>\n      <td>miss much tonight show go</td>\n    </tr>\n    <tr>\n      <th>4</th>\n      <td>0</td>\n      <td>@gab_iii I'm totally jealous of your hat and y...</td>\n      <td>total jealou hat shirt</td>\n      <td>totally jealous hat shirt</td>\n    </tr>\n    <tr>\n      <th>...</th>\n      <td>...</td>\n      <td>...</td>\n      <td>...</td>\n      <td>...</td>\n    </tr>\n    <tr>\n      <th>19995</th>\n      <td>1</td>\n      <td>Coming home from camping with K M and A  my ar...</td>\n      <td>come home camp arm tire</td>\n      <td>come home camping arm tired</td>\n    </tr>\n    <tr>\n      <th>19996</th>\n      <td>1</td>\n      <td>@cheridennis Had to double check! Glad I don't...</td>\n      <td>doubl check glad send twolic see soon</td>\n      <td>double check glad send twolice see soon</td>\n    </tr>\n    <tr>\n      <th>19997</th>\n      <td>1</td>\n      <td>@nglalala oh my goodness! i just checked my @ ...</td>\n      <td>oh good check repli saw yay twitter excit ye w...</td>\n      <td>oh goodness check reply see yay twitter exciti...</td>\n    </tr>\n    <tr>\n      <th>19998</th>\n      <td>1</td>\n      <td>Highly recomend UP!  bring tissues, its pretty...</td>\n      <td>highli recomend bring tissu pretti sweet</td>\n      <td>highly recomend bring tissue pretty sweet</td>\n    </tr>\n    <tr>\n      <th>19999</th>\n      <td>1</td>\n      <td>@thecrazyjogger nice  I've heard good things a...</td>\n      <td>nice heard good thing friend mine realli like ...</td>\n      <td>nice hear good thing friend mine really like t...</td>\n    </tr>\n  </tbody>\n</table>\n<p>20000 rows × 4 columns</p>\n</div>"
     },
     "execution_count": 198,
     "metadata": {},
     "output_type": "execute_result"
    }
   ],
   "source": [
    "df_sample"
   ],
   "metadata": {
    "collapsed": false
   }
  },
  {
   "cell_type": "code",
   "execution_count": 199,
   "outputs": [],
   "source": [
    "def train_valid_test_split(df, text, target, train_size=0.8, valid_size=0.1, test_size=0.1, random_state=0):\n",
    "    if train_size + valid_size + test_size != 1.0:\n",
    "        raise ValueError(\"Les proportions ne s'additionnent pas à 1.0\")\n",
    "\n",
    "    # divisez vos données en un ensemble d'apprentissage et un ensemble temporaire\n",
    "    X_train, X_temp, y_train, y_temp = train_test_split(df[text],\n",
    "                                                        df[target],\n",
    "                                                        stratify=df[target],\n",
    "                                                        test_size=1-train_size,\n",
    "                                                        random_state=random_state)\n",
    "\n",
    "    # calculer la taille relative des ensembles de validation et de test\n",
    "    relative_test_size = test_size / (valid_size + test_size)\n",
    "\n",
    "    # divisez l'ensemble temporaire en ensembles de validation et de test\n",
    "    X_valid, X_test, y_valid, y_test = train_test_split(X_temp, y_temp,\n",
    "                                                        stratify=y_temp,\n",
    "                                                        test_size=relative_test_size,\n",
    "                                                        random_state=random_state)\n",
    "\n",
    "    return X_train, X_valid, X_test, y_train, y_valid, y_test"
   ],
   "metadata": {
    "collapsed": false
   }
  },
  {
   "cell_type": "code",
   "execution_count": 200,
   "outputs": [],
   "source": [
    "def calcul_metrics(y_valid, y_valid_pred ,title, recover = False):\n",
    "    #Ajouter le score ACCURACY\n",
    "    print(title)\n",
    "    print(classification_report(y_valid, y_valid_pred))\n",
    "    precision = precision_score(y_valid, y_valid_pred)\n",
    "    print(\"Precision Score\", precision)\n",
    "    recall = recall_score(y_valid, y_valid_pred)\n",
    "    print(\"Recall Score :\", recall)\n",
    "    f1 = f1_score(y_valid, y_valid_pred)\n",
    "    print(\"F1 Score\", f1)\n",
    "    fpr, tpr, thresholds = roc_curve(y_valid, y_valid_pred)\n",
    "    score_auc = auc_score_func(fpr, tpr)\n",
    "    print(\"AUC :\" , score_auc, \"\\n\")\n",
    "    if recover:\n",
    "        return precision, recall, f1, score_auc"
   ],
   "metadata": {
    "collapsed": false
   }
  },
  {
   "cell_type": "markdown",
   "source": [
    "## Regression Logistique"
   ],
   "metadata": {
    "collapsed": false
   }
  },
  {
   "cell_type": "markdown",
   "source": [
    "### BoW"
   ],
   "metadata": {
    "collapsed": false
   }
  },
  {
   "cell_type": "code",
   "execution_count": 201,
   "outputs": [
    {
     "name": "stderr",
     "output_type": "stream",
     "text": [
      "2023/06/26 03:46:31 INFO mlflow.tracking.fluent: Experiment with name 'Regression Logistique' does not exist. Creating a new experiment.\n"
     ]
    },
    {
     "name": "stdout",
     "output_type": "stream",
     "text": [
      "Performances sur le validation set avec Stemming et TF-IDF\n",
      "              precision    recall  f1-score   support\n",
      "\n",
      "           0       0.64      0.64      0.64      1000\n",
      "           1       0.64      0.63      0.63      1000\n",
      "\n",
      "    accuracy                           0.64      2000\n",
      "   macro avg       0.64      0.64      0.64      2000\n",
      "weighted avg       0.64      0.64      0.64      2000\n",
      "\n",
      "Precision Score 0.6359077231695085\n",
      "Recall Score : 0.634\n",
      "F1 Score 0.6349524286429643\n",
      "AUC : 0.6355000000000001 \n",
      "\n"
     ]
    },
    {
     "name": "stderr",
     "output_type": "stream",
     "text": [
      "Registered model 'tf-idf' already exists. Creating a new version of this model...\n",
      "2023/06/26 03:46:34 INFO mlflow.tracking._model_registry.client: Waiting up to 300 seconds for model version to finish creation. Model name: tf-idf, version 2\n",
      "Created version '2' of model 'tf-idf'.\n"
     ]
    },
    {
     "name": "stdout",
     "output_type": "stream",
     "text": [
      "Performances sur le validation set avec Lemmatisation et TF-IDF :\n",
      "              precision    recall  f1-score   support\n",
      "\n",
      "           0       0.64      0.64      0.64      1000\n",
      "           1       0.64      0.63      0.64      1000\n",
      "\n",
      "    accuracy                           0.64      2000\n",
      "   macro avg       0.64      0.64      0.64      2000\n",
      "weighted avg       0.64      0.64      0.64      2000\n",
      "\n",
      "Precision Score 0.6391129032258065\n",
      "Recall Score : 0.634\n",
      "F1 Score 0.6365461847389559\n",
      "AUC : 0.6379999999999999 \n",
      "\n"
     ]
    }
   ],
   "source": [
    "experiment_name = \"Regression Logistique\"\n",
    "mlflow.set_experiment(experiment_name)\n",
    "with mlflow.start_run(run_name=\"TFIDF run\"):\n",
    "    params = {\"penalty\": \"l2\", \"C\": 1.0, \"random_state\": 0}\n",
    "    pipeline = Pipeline([\n",
    "        ('vect', TfidfVectorizer()),\n",
    "        ('scale', StandardScaler(with_mean=False)),\n",
    "        ('clf', LogisticRegression(**params))\n",
    "    ])\n",
    "    X_train, X_valid, X_test, y_train, y_valid, y_test = train_valid_test_split(df_sample, text= \"clean_text_stem\" ,target= 'target')\n",
    "    pipeline.fit(X_train, y_train)\n",
    "    y_valid_pred = pipeline.predict(X_valid)\n",
    "    precision, recall, f1, score_auc = calcul_metrics(y_valid, y_valid_pred, \"Performances sur le validation set avec Stemming et TF-IDF\", recover=True)\n",
    "    mlflow.log_param(\"preprocessing\", \"Stemming et TF-IDF\")\n",
    "    mlflow.log_params(params)\n",
    "    mlflow.log_metrics({\n",
    "    \"precision_score\": precision,\n",
    "    \"recall_score\": recall,\n",
    "    \"f1_score\": f1,\n",
    "    \"auc\": score_auc,\n",
    "    })\n",
    "    signature = infer_signature(X_valid, y_valid_pred)\n",
    "    mlflow.sklearn.log_model(\n",
    "        sk_model=pipeline.named_steps['clf'],\n",
    "        artifact_path=\"sklearn-model\",\n",
    "        signature=signature,\n",
    "        registered_model_name=\"tf-idf\",\n",
    "    )\n",
    "\n",
    "X_train, X_valid, X_test, y_train, y_valid, y_test = train_valid_test_split(df_sample, text= \"clean_text_lem\" ,target= 'target')\n",
    "pipeline.fit(X_train, y_train)\n",
    "y_valid_pred = pipeline.predict(X_valid)\n",
    "calcul_metrics(y_valid, y_valid_pred, \"Performances sur le validation set avec Lemmatisation et TF-IDF :\")"
   ],
   "metadata": {
    "collapsed": false
   }
  },
  {
   "cell_type": "markdown",
   "source": [
    "### Word embedding"
   ],
   "metadata": {
    "collapsed": false
   }
  },
  {
   "cell_type": "code",
   "execution_count": 202,
   "outputs": [],
   "source": [
    "def create_vectors(nlp, X_train, X_valid, X_test):\n",
    "    X_train = [nlp(tweet).vector for tweet in X_train]\n",
    "    X_valid = [nlp(tweet).vector for tweet in X_valid]\n",
    "    X_test = [nlp(tweet).vector for tweet in X_test]\n",
    "    X_train = np.array(X_train)\n",
    "    X_valid = np.array(X_valid)\n",
    "    X_test = np.array(X_test)\n",
    "    return X_train, X_valid, X_test"
   ],
   "metadata": {
    "collapsed": false
   }
  },
  {
   "cell_type": "code",
   "execution_count": 203,
   "outputs": [
    {
     "name": "stdout",
     "output_type": "stream",
     "text": [
      "Performances sur le validation set avec Lemmatisation et Word2Vec\n",
      "              precision    recall  f1-score   support\n",
      "\n",
      "           0       0.72      0.71      0.72      1000\n",
      "           1       0.72      0.72      0.72      1000\n",
      "\n",
      "    accuracy                           0.72      2000\n",
      "   macro avg       0.72      0.72      0.72      2000\n",
      "weighted avg       0.72      0.72      0.72      2000\n",
      "\n",
      "Precision Score 0.7165510406342914\n",
      "Recall Score : 0.723\n",
      "F1 Score 0.7197610751617721\n",
      "AUC : 0.7184999999999999 \n",
      "\n"
     ]
    },
    {
     "name": "stderr",
     "output_type": "stream",
     "text": [
      "Registered model 'word2vec' already exists. Creating a new version of this model...\n",
      "2023/06/26 03:47:44 INFO mlflow.tracking._model_registry.client: Waiting up to 300 seconds for model version to finish creation. Model name: word2vec, version 2\n",
      "Created version '2' of model 'word2vec'.\n"
     ]
    }
   ],
   "source": [
    "mlflow.set_tracking_uri('file://' + os.path.abspath('mlruns'))\n",
    "with mlflow.start_run(run_name=\"Word Embedding run\"):\n",
    "    X_train, X_valid, X_test, y_train, y_valid, y_test = train_valid_test_split(df_sample, text=\"clean_text_lem\" ,target= 'target')\n",
    "    X_train, X_valid, X_test = create_vectors(nlp, X_train, X_valid, X_test)\n",
    "    params = {\"penalty\": \"l2\", \"C\": 1.0, \"random_state\": 0}\n",
    "\n",
    "    pipeline = Pipeline([\n",
    "        ('scale', StandardScaler()),\n",
    "        ('clf', LogisticRegression(**params))\n",
    "    ])\n",
    "    pipeline.fit(X_train, y_train)\n",
    "    y_valid_pred = pipeline.predict(X_valid)\n",
    "\n",
    "    precision, recall, f1, score_auc = calcul_metrics(y_valid, y_valid_pred, \"Performances sur le validation set avec Lemmatisation et Word2Vec\", recover=True)\n",
    "    mlflow.log_param(\"preprocessing\", \"Lemmatization and Word2Vec\")\n",
    "    mlflow.log_params(params)\n",
    "    mlflow.log_metrics({\n",
    "    \"precision_score\": precision,\n",
    "    \"recall_score\": recall,\n",
    "    \"f1_score\": f1,\n",
    "    \"auc\": score_auc,\n",
    "    })\n",
    "    signature = infer_signature(X_valid, y_valid_pred)\n",
    "    mlflow.sklearn.log_model(\n",
    "        sk_model=pipeline.named_steps['clf'],\n",
    "        artifact_path=\"sklearn-model\",\n",
    "        signature=signature,\n",
    "        registered_model_name=\"word2vec\",\n",
    "    )"
   ],
   "metadata": {
    "collapsed": false
   }
  },
  {
   "cell_type": "code",
   "execution_count": 206,
   "outputs": [
    {
     "data": {
      "text/plain": "['accuracy',\n 'adjusted_mutual_info_score',\n 'adjusted_rand_score',\n 'average_precision',\n 'balanced_accuracy',\n 'completeness_score',\n 'explained_variance',\n 'f1',\n 'f1_macro',\n 'f1_micro',\n 'f1_samples',\n 'f1_weighted',\n 'fowlkes_mallows_score',\n 'homogeneity_score',\n 'jaccard',\n 'jaccard_macro',\n 'jaccard_micro',\n 'jaccard_samples',\n 'jaccard_weighted',\n 'matthews_corrcoef',\n 'max_error',\n 'mutual_info_score',\n 'neg_brier_score',\n 'neg_log_loss',\n 'neg_mean_absolute_error',\n 'neg_mean_absolute_percentage_error',\n 'neg_mean_gamma_deviance',\n 'neg_mean_poisson_deviance',\n 'neg_mean_squared_error',\n 'neg_mean_squared_log_error',\n 'neg_median_absolute_error',\n 'neg_negative_likelihood_ratio',\n 'neg_root_mean_squared_error',\n 'normalized_mutual_info_score',\n 'positive_likelihood_ratio',\n 'precision',\n 'precision_macro',\n 'precision_micro',\n 'precision_samples',\n 'precision_weighted',\n 'r2',\n 'rand_score',\n 'recall',\n 'recall_macro',\n 'recall_micro',\n 'recall_samples',\n 'recall_weighted',\n 'roc_auc',\n 'roc_auc_ovo',\n 'roc_auc_ovo_weighted',\n 'roc_auc_ovr',\n 'roc_auc_ovr_weighted',\n 'top_k_accuracy',\n 'v_measure_score']"
     },
     "execution_count": 206,
     "metadata": {},
     "output_type": "execute_result"
    }
   ],
   "source": [
    "import sklearn\n",
    "sklearn.metrics.get_scorer_names()"
   ],
   "metadata": {
    "collapsed": false
   }
  },
  {
   "cell_type": "code",
   "execution_count": 204,
   "outputs": [
    {
     "ename": "ValueError",
     "evalue": "'f1_score' is not a valid scoring value. Use sklearn.metrics.get_scorer_names() to get valid options.",
     "output_type": "error",
     "traceback": [
      "\u001B[1;31m---------------------------------------------------------------------------\u001B[0m",
      "\u001B[1;31mKeyError\u001B[0m                                  Traceback (most recent call last)",
      "File \u001B[1;32m~\\anaconda3\\envs\\env_P6\\lib\\site-packages\\sklearn\\metrics\\_scorer.py:430\u001B[0m, in \u001B[0;36mget_scorer\u001B[1;34m(scoring)\u001B[0m\n\u001B[0;32m    429\u001B[0m \u001B[38;5;28;01mtry\u001B[39;00m:\n\u001B[1;32m--> 430\u001B[0m     scorer \u001B[38;5;241m=\u001B[39m copy\u001B[38;5;241m.\u001B[39mdeepcopy(\u001B[43m_SCORERS\u001B[49m\u001B[43m[\u001B[49m\u001B[43mscoring\u001B[49m\u001B[43m]\u001B[49m)\n\u001B[0;32m    431\u001B[0m \u001B[38;5;28;01mexcept\u001B[39;00m \u001B[38;5;167;01mKeyError\u001B[39;00m:\n",
      "\u001B[1;31mKeyError\u001B[0m: 'f1_score'",
      "\nDuring handling of the above exception, another exception occurred:\n",
      "\u001B[1;31mValueError\u001B[0m                                Traceback (most recent call last)",
      "Cell \u001B[1;32mIn[204], line 9\u001B[0m\n\u001B[0;32m      6\u001B[0m grid_search \u001B[38;5;241m=\u001B[39m GridSearchCV(pipeline, parameters, cv\u001B[38;5;241m=\u001B[39m\u001B[38;5;241m10\u001B[39m, scoring\u001B[38;5;241m=\u001B[39m\u001B[38;5;124m'\u001B[39m\u001B[38;5;124mf1_score\u001B[39m\u001B[38;5;124m'\u001B[39m)\n\u001B[0;32m      8\u001B[0m \u001B[38;5;28;01mwith\u001B[39;00m mlflow\u001B[38;5;241m.\u001B[39mstart_run(run_name\u001B[38;5;241m=\u001B[39m\u001B[38;5;124m\"\u001B[39m\u001B[38;5;124mGridSearchCV run\u001B[39m\u001B[38;5;124m\"\u001B[39m):\n\u001B[1;32m----> 9\u001B[0m     \u001B[43mgrid_search\u001B[49m\u001B[38;5;241;43m.\u001B[39;49m\u001B[43mfit\u001B[49m\u001B[43m(\u001B[49m\u001B[43mX_train\u001B[49m\u001B[43m,\u001B[49m\u001B[43m \u001B[49m\u001B[43my_train\u001B[49m\u001B[43m)\u001B[49m\n\u001B[0;32m     11\u001B[0m     mlflow\u001B[38;5;241m.\u001B[39mlog_param(\u001B[38;5;124m\"\u001B[39m\u001B[38;5;124mC\u001B[39m\u001B[38;5;124m\"\u001B[39m, grid_search\u001B[38;5;241m.\u001B[39mbest_params_[\u001B[38;5;124m'\u001B[39m\u001B[38;5;124mclf__C\u001B[39m\u001B[38;5;124m'\u001B[39m])\n\u001B[0;32m     12\u001B[0m     mlflow\u001B[38;5;241m.\u001B[39mlog_param(\u001B[38;5;124m\"\u001B[39m\u001B[38;5;124mpenalty\u001B[39m\u001B[38;5;124m\"\u001B[39m, grid_search\u001B[38;5;241m.\u001B[39mbest_params_[\u001B[38;5;124m'\u001B[39m\u001B[38;5;124mclf__penalty\u001B[39m\u001B[38;5;124m'\u001B[39m])\n",
      "File \u001B[1;32m~\\anaconda3\\envs\\env_P6\\lib\\site-packages\\sklearn\\model_selection\\_search.py:776\u001B[0m, in \u001B[0;36mBaseSearchCV.fit\u001B[1;34m(self, X, y, groups, **fit_params)\u001B[0m\n\u001B[0;32m    774\u001B[0m     scorers \u001B[38;5;241m=\u001B[39m \u001B[38;5;28mself\u001B[39m\u001B[38;5;241m.\u001B[39mscoring\n\u001B[0;32m    775\u001B[0m \u001B[38;5;28;01melif\u001B[39;00m \u001B[38;5;28mself\u001B[39m\u001B[38;5;241m.\u001B[39mscoring \u001B[38;5;129;01mis\u001B[39;00m \u001B[38;5;28;01mNone\u001B[39;00m \u001B[38;5;129;01mor\u001B[39;00m \u001B[38;5;28misinstance\u001B[39m(\u001B[38;5;28mself\u001B[39m\u001B[38;5;241m.\u001B[39mscoring, \u001B[38;5;28mstr\u001B[39m):\n\u001B[1;32m--> 776\u001B[0m     scorers \u001B[38;5;241m=\u001B[39m \u001B[43mcheck_scoring\u001B[49m\u001B[43m(\u001B[49m\u001B[38;5;28;43mself\u001B[39;49m\u001B[38;5;241;43m.\u001B[39;49m\u001B[43mestimator\u001B[49m\u001B[43m,\u001B[49m\u001B[43m \u001B[49m\u001B[38;5;28;43mself\u001B[39;49m\u001B[38;5;241;43m.\u001B[39;49m\u001B[43mscoring\u001B[49m\u001B[43m)\u001B[49m\n\u001B[0;32m    777\u001B[0m \u001B[38;5;28;01melse\u001B[39;00m:\n\u001B[0;32m    778\u001B[0m     scorers \u001B[38;5;241m=\u001B[39m _check_multimetric_scoring(\u001B[38;5;28mself\u001B[39m\u001B[38;5;241m.\u001B[39mestimator, \u001B[38;5;28mself\u001B[39m\u001B[38;5;241m.\u001B[39mscoring)\n",
      "File \u001B[1;32m~\\anaconda3\\envs\\env_P6\\lib\\site-packages\\sklearn\\metrics\\_scorer.py:479\u001B[0m, in \u001B[0;36mcheck_scoring\u001B[1;34m(estimator, scoring, allow_none)\u001B[0m\n\u001B[0;32m    474\u001B[0m     \u001B[38;5;28;01mraise\u001B[39;00m \u001B[38;5;167;01mTypeError\u001B[39;00m(\n\u001B[0;32m    475\u001B[0m         \u001B[38;5;124m\"\u001B[39m\u001B[38;5;124mestimator should be an estimator implementing \u001B[39m\u001B[38;5;124m'\u001B[39m\u001B[38;5;124mfit\u001B[39m\u001B[38;5;124m'\u001B[39m\u001B[38;5;124m method, \u001B[39m\u001B[38;5;132;01m%r\u001B[39;00m\u001B[38;5;124m was passed\u001B[39m\u001B[38;5;124m\"\u001B[39m\n\u001B[0;32m    476\u001B[0m         \u001B[38;5;241m%\u001B[39m estimator\n\u001B[0;32m    477\u001B[0m     )\n\u001B[0;32m    478\u001B[0m \u001B[38;5;28;01mif\u001B[39;00m \u001B[38;5;28misinstance\u001B[39m(scoring, \u001B[38;5;28mstr\u001B[39m):\n\u001B[1;32m--> 479\u001B[0m     \u001B[38;5;28;01mreturn\u001B[39;00m \u001B[43mget_scorer\u001B[49m\u001B[43m(\u001B[49m\u001B[43mscoring\u001B[49m\u001B[43m)\u001B[49m\n\u001B[0;32m    480\u001B[0m \u001B[38;5;28;01melif\u001B[39;00m callable(scoring):\n\u001B[0;32m    481\u001B[0m     \u001B[38;5;66;03m# Heuristic to ensure user has not passed a metric\u001B[39;00m\n\u001B[0;32m    482\u001B[0m     module \u001B[38;5;241m=\u001B[39m \u001B[38;5;28mgetattr\u001B[39m(scoring, \u001B[38;5;124m\"\u001B[39m\u001B[38;5;124m__module__\u001B[39m\u001B[38;5;124m\"\u001B[39m, \u001B[38;5;28;01mNone\u001B[39;00m)\n",
      "File \u001B[1;32m~\\anaconda3\\envs\\env_P6\\lib\\site-packages\\sklearn\\metrics\\_scorer.py:432\u001B[0m, in \u001B[0;36mget_scorer\u001B[1;34m(scoring)\u001B[0m\n\u001B[0;32m    430\u001B[0m         scorer \u001B[38;5;241m=\u001B[39m copy\u001B[38;5;241m.\u001B[39mdeepcopy(_SCORERS[scoring])\n\u001B[0;32m    431\u001B[0m     \u001B[38;5;28;01mexcept\u001B[39;00m \u001B[38;5;167;01mKeyError\u001B[39;00m:\n\u001B[1;32m--> 432\u001B[0m         \u001B[38;5;28;01mraise\u001B[39;00m \u001B[38;5;167;01mValueError\u001B[39;00m(\n\u001B[0;32m    433\u001B[0m             \u001B[38;5;124m\"\u001B[39m\u001B[38;5;132;01m%r\u001B[39;00m\u001B[38;5;124m is not a valid scoring value. \u001B[39m\u001B[38;5;124m\"\u001B[39m\n\u001B[0;32m    434\u001B[0m             \u001B[38;5;124m\"\u001B[39m\u001B[38;5;124mUse sklearn.metrics.get_scorer_names() \u001B[39m\u001B[38;5;124m\"\u001B[39m\n\u001B[0;32m    435\u001B[0m             \u001B[38;5;124m\"\u001B[39m\u001B[38;5;124mto get valid options.\u001B[39m\u001B[38;5;124m\"\u001B[39m \u001B[38;5;241m%\u001B[39m scoring\n\u001B[0;32m    436\u001B[0m         )\n\u001B[0;32m    437\u001B[0m \u001B[38;5;28;01melse\u001B[39;00m:\n\u001B[0;32m    438\u001B[0m     scorer \u001B[38;5;241m=\u001B[39m scoring\n",
      "\u001B[1;31mValueError\u001B[0m: 'f1_score' is not a valid scoring value. Use sklearn.metrics.get_scorer_names() to get valid options."
     ]
    }
   ],
   "source": [
    "parameters = {\n",
    "    'clf__C': [0.01, 0.1, 1.0, 10.0],\n",
    "    'clf__penalty': ['l1', 'l2'],\n",
    "    \"solver\" : ['newton-cg', 'lbfgs', 'liblinear']\n",
    "}\n",
    "grid_search = GridSearchCV(pipeline, parameters, cv=10, scoring='accuracy')\n",
    "\n",
    "with mlflow.start_run(run_name=\"GridSearchCV run\"):\n",
    "    grid_search.fit(X_train, y_train)\n",
    "\n",
    "    mlflow.log_param(\"C\", grid_search.best_params_['clf__C'])\n",
    "    mlflow.log_param(\"penalty\", grid_search.best_params_['clf__penalty'])\n",
    "    mlflow.log_param(\"solver\", grid_search.best_params_['solver'])\n",
    "\n",
    "    y_valid_pred = grid_search.predict(X_valid)\n",
    "    precision_valid_set, recall_valid_set, f1_valid_set, auc_score_valid_set = calcul_metrics(y_valid, y_valid_pred, \"Performances sur le validation set avec Lemmatisation, Word2Vec et GridSearch\", recover=True)\n",
    "    y_test_pred = grid_search.predict(X_test)\n",
    "    precision_test_set, recall_test_set, f1_test_set, auc_score_test_set = calcul_metrics(y_test, y_test_pred, \"Performances sur le test set avec Lemmatisation, Word2Vec et GridSearch\", recover=True)\n",
    "    mlflow.log_metrics({\n",
    "    \"valid_precision_score\": precision_valid_set,\n",
    "    \"valid_recall_score\": recall_valid_set,\n",
    "    \"valid_f1_score\": f1_valid_set,\n",
    "    \"valid_auc\": auc_score_valid_set,\n",
    "    })\n",
    "    mlflow.log_metrics({\n",
    "    \"test_precision_score\": precision_test_set,\n",
    "    \"test_recall_score\": recall_test_set,\n",
    "    \"test_f1_score\": f1_test_set,\n",
    "    \"test_auc\": auc_score_test_set,\n",
    "    })\n",
    "    signature = infer_signature(X_test, y_test_pred)\n",
    "    mlflow.sklearn.log_model(\n",
    "        sk_model=grid_search.best_estimator_,\n",
    "        artifact_path=\"sklearn-model\",\n",
    "        signature=signature,\n",
    "        registered_model_name=\"GridSearchCV\",\n",
    "    )"
   ],
   "metadata": {
    "collapsed": false
   }
  },
  {
   "cell_type": "code",
   "execution_count": null,
   "outputs": [],
   "source": [
    "def plot_confusion_matrix(y_true, y_pred):\n",
    "    '''\n",
    "    Prend en entrée les prédictions et les probabilités de prédiction d'un modèle, ainsi que les vraies étiquettes\n",
    "    (y_true) . Elle affiche ensuite une matrice d confusion\n",
    "\n",
    "    Args:\n",
    "    - y_true, y_pred\n",
    "\n",
    "    Returns:\n",
    "    - Graphiques : Matrice de confusion\n",
    "    '''\n",
    "    fig = plt.figure(figsize=(20,15))\n",
    "\n",
    "    conf_matrix = confusion_matrix(y_true, y_pred)\n",
    "    group_names = ['True Neg', 'False Pos', 'False Neg', 'True Pos']\n",
    "    group_counts = [\"{0:0.0f}\".format(value) for value in conf_matrix.flatten()]\n",
    "    group_percentages = [\"{0:.2%}\".format(value) for value in conf_matrix.flatten()/np.sum(conf_matrix)]\n",
    "\n",
    "    labels = [f\"{v1}\\n{v2}\\n{v3}\" for v1, v2, v3 in zip(group_names,group_counts,group_percentages)]\n",
    "    labels = np.asarray(labels).reshape(2,2)\n",
    "    sns.heatmap(conf_matrix, annot=labels, fmt=\"\", cmap='Blues', annot_kws={\"size\": 15})\n",
    "    plt.xlabel(\"Predictions\", fontsize=16)\n",
    "    plt.ylabel(\"Étiquettes réelles\", fontsize=16)\n",
    "    plt.title(\"Matrice de Confusion\")\n",
    "    plt.show()"
   ],
   "metadata": {
    "collapsed": false
   }
  },
  {
   "cell_type": "markdown",
   "source": [],
   "metadata": {
    "collapsed": false
   }
  }
 ],
 "metadata": {
  "kernelspec": {
   "name": "env_p6",
   "language": "python",
   "display_name": "env_P6"
  },
  "language_info": {
   "codemirror_mode": {
    "name": "ipython",
    "version": 3
   },
   "file_extension": ".py",
   "mimetype": "text/x-python",
   "name": "python",
   "nbconvert_exporter": "python",
   "pygments_lexer": "ipython3",
   "version": "3.10.9"
  }
 },
 "nbformat": 4,
 "nbformat_minor": 5
}
